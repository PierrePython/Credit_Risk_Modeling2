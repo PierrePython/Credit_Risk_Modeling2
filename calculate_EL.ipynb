{
 "cells": [
  {
   "cell_type": "markdown",
   "id": "e49b3347-7990-4231-8025-643eb6d7ac47",
   "metadata": {},
   "source": [
    "# Import Libraries"
   ]
  },
  {
   "cell_type": "code",
   "execution_count": 2,
   "id": "b9bac0b7-9204-47a1-b8c7-f48fde84fdfd",
   "metadata": {},
   "outputs": [],
   "source": [
    "import numpy as np\n",
    "import pandas as pd\n",
    "import matplotlib.pyplot as plt\n",
    "import seaborn as sns\n",
    "from sklearn.model_selection import train_test_split\n",
    "from sklearn import linear_model\n",
    "from sklearn.metrics import mean_absolute_error, mean_squared_error, r2_score\n",
    "import scipy.stats as stat\n",
    "import pickle\n",
    "import statsmodels.api as sm\n",
    "from statsmodels.othermod.betareg import BetaModel\n",
    "from sklearn.linear_model import LogisticRegression"
   ]
  },
  {
   "cell_type": "markdown",
   "id": "4bb87603-abbd-44ee-8bc1-f963e855b2da",
   "metadata": {},
   "source": [
    "# Expected Loss"
   ]
  },
  {
   "cell_type": "code",
   "execution_count": 4,
   "id": "84f522ab-877e-4172-ae2d-45af1774a30b",
   "metadata": {},
   "outputs": [],
   "source": [
    "loan_data_inputs_train = pd.read_csv('loan_data_inputs_train.csv')\n",
    "loan_data_inputs_test = pd.read_csv('loan_data_inputs_test.csv')\n",
    "feature_pd = pd.read_csv('feature_pd.csv')\n",
    "feature_lgd = pd.read_csv('feature_lgd.csv')\n",
    "feature_ead = pd.read_csv('feature_ead.csv')\n",
    "inputs = pd.concat([loan_data_inputs_train, loan_data_inputs_test], axis=0)"
   ]
  },
  {
   "cell_type": "code",
   "execution_count": 5,
   "id": "5f045fce-4a54-4aea-b4b3-fe3c520b7979",
   "metadata": {},
   "outputs": [],
   "source": [
    "feature_pd = feature_pd.to_numpy()\n",
    "feature_pd = feature_pd.flatten().tolist()\n",
    "\n",
    "feature_lgd = feature_lgd.to_numpy()\n",
    "feature_lgd = feature_lgd.flatten().tolist()\n",
    "\n",
    "feature_ead = feature_ead.to_numpy()\n",
    "feature_ead = feature_ead.flatten().tolist()"
   ]
  },
  {
   "cell_type": "code",
   "execution_count": 6,
   "id": "ee598490-bafd-4440-a0ce-789b28cee90f",
   "metadata": {},
   "outputs": [],
   "source": [
    "inputs_lgd = inputs[feature_lgd]\n",
    "# Here we take only the accounts that were charged-off (written-off)."
   ]
  },
  {
   "cell_type": "code",
   "execution_count": 7,
   "id": "cb154239-3a21-48e5-8871-e794c8f76475",
   "metadata": {},
   "outputs": [
    {
     "name": "stdout",
     "output_type": "stream",
     "text": [
      "<class 'pandas.core.frame.DataFrame'>\n",
      "Index: 390077 entries, 0 to 78015\n",
      "Data columns (total 46 columns):\n",
      " #   Column                                 Non-Null Count   Dtype  \n",
      "---  ------                                 --------------   -----  \n",
      " 0   grade_woe                              390077 non-null  float64\n",
      " 1   home_ownership_woe                     390077 non-null  float64\n",
      " 2   addr_state_woe                         390077 non-null  float64\n",
      " 3   loan_amnt_scaled                       390077 non-null  float64\n",
      " 4   int_rate_scaled                        390077 non-null  float64\n",
      " 5   installment_scaled                     390077 non-null  float64\n",
      " 6   annual_inc_scaled                      390077 non-null  float64\n",
      " 7   fico_range_high_scaled                 390077 non-null  float64\n",
      " 8   inq_last_6mths_scaled                  390077 non-null  float64\n",
      " 9   mths_since_last_delinq_scaled          390077 non-null  float64\n",
      " 10  mths_since_last_record_scaled          390077 non-null  float64\n",
      " 11  revol_bal_scaled                       390077 non-null  float64\n",
      " 12  revol_util_scaled                      390077 non-null  float64\n",
      " 13  out_prncp_inv_scaled                   390077 non-null  float64\n",
      " 14  total_pymnt_inv_scaled                 390077 non-null  float64\n",
      " 15  total_rec_prncp_scaled                 390077 non-null  float64\n",
      " 16  last_pymnt_amnt_scaled                 390077 non-null  float64\n",
      " 17  last_fico_range_high_scaled            390077 non-null  float64\n",
      " 18  last_fico_range_low_scaled             390077 non-null  float64\n",
      " 19  open_il_12m_scaled                     390077 non-null  float64\n",
      " 20  total_bal_il_scaled                    390077 non-null  float64\n",
      " 21  il_util_scaled                         390077 non-null  float64\n",
      " 22  total_rev_hi_lim_scaled                390077 non-null  float64\n",
      " 23  total_cu_tl_scaled                     390077 non-null  float64\n",
      " 24  bc_open_to_buy_scaled                  390077 non-null  float64\n",
      " 25  bc_util_scaled                         390077 non-null  float64\n",
      " 26  mo_sin_old_il_acct_scaled              390077 non-null  float64\n",
      " 27  mo_sin_old_rev_tl_op_scaled            390077 non-null  float64\n",
      " 28  mo_sin_rcnt_rev_tl_op_scaled           390077 non-null  float64\n",
      " 29  mo_sin_rcnt_tl_scaled                  390077 non-null  float64\n",
      " 30  mths_since_recent_bc_scaled            390077 non-null  float64\n",
      " 31  mths_since_recent_bc_dlq_scaled        390077 non-null  float64\n",
      " 32  mths_since_recent_revol_delinq_scaled  390077 non-null  float64\n",
      " 33  num_accts_ever_120_pd_scaled           390077 non-null  float64\n",
      " 34  num_actv_bc_tl_scaled                  390077 non-null  float64\n",
      " 35  num_bc_sats_scaled                     390077 non-null  float64\n",
      " 36  num_bc_tl_scaled                       390077 non-null  float64\n",
      " 37  num_tl_120dpd_2m_scaled                390077 non-null  float64\n",
      " 38  num_tl_30dpd_scaled                    390077 non-null  float64\n",
      " 39  num_tl_90g_dpd_24m_scaled              390077 non-null  float64\n",
      " 40  num_tl_op_past_12m_scaled              390077 non-null  float64\n",
      " 41  pct_tl_nvr_dlq_scaled                  390077 non-null  float64\n",
      " 42  percent_bc_gt_75_scaled                390077 non-null  float64\n",
      " 43  emp_length_int_scaled                  390077 non-null  float64\n",
      " 44  term_int_scaled                        390077 non-null  float64\n",
      " 45  mths_since_issue_d_scaled              390077 non-null  float64\n",
      "dtypes: float64(46)\n",
      "memory usage: 139.9 MB\n"
     ]
    }
   ],
   "source": [
    "inputs_lgd.info(max_cols = 200)"
   ]
  },
  {
   "cell_type": "code",
   "execution_count": 8,
   "id": "6005db8c-44db-4f06-851a-e1523677b012",
   "metadata": {},
   "outputs": [],
   "source": [
    "lgd_model = pickle.load(open('lgd_model.sav', 'rb'))\n",
    "inputs_lgd = sm.add_constant(inputs_lgd)\n",
    "inputs_lgd['recovery_rate'] = lgd_model.predict(inputs_lgd)\n"
   ]
  },
  {
   "cell_type": "code",
   "execution_count": 9,
   "id": "ed4236ba-1de8-4921-92c9-c0b8455d4266",
   "metadata": {},
   "outputs": [
    {
     "name": "stdout",
     "output_type": "stream",
     "text": [
      "Index matching : True\n"
     ]
    }
   ],
   "source": [
    "indices_alignes = inputs.index.equals(inputs_lgd.index)\n",
    "print(f\"Index matching : {indices_alignes}\")"
   ]
  },
  {
   "cell_type": "code",
   "execution_count": 10,
   "id": "23d2bb66-d686-43ff-8fb6-00fb952c79cc",
   "metadata": {},
   "outputs": [],
   "source": [
    "inputs['recovery_rate'] = inputs_lgd['recovery_rate']"
   ]
  },
  {
   "cell_type": "code",
   "execution_count": 11,
   "id": "b7ca23ef-3dbf-41be-832c-fa8d526515ae",
   "metadata": {},
   "outputs": [],
   "source": [
    "inputs['recovery_rate'] = np.where(inputs['recovery_rate'] < 0, 0, inputs['recovery_rate'])\n",
    "inputs['recovery_rate'] = np.where(inputs['recovery_rate'] > 1, 1, inputs['recovery_rate'])\n",
    "# We set estimated recovery rates that are greater than 1 to 1 and  estimated recovery rates that are less than 0 to 0."
   ]
  },
  {
   "cell_type": "code",
   "execution_count": 12,
   "id": "3b50818e-6cc0-4bd6-bfa5-cf2ab20572d5",
   "metadata": {},
   "outputs": [
    {
     "data": {
      "text/html": [
       "<div>\n",
       "<style scoped>\n",
       "    .dataframe tbody tr th:only-of-type {\n",
       "        vertical-align: middle;\n",
       "    }\n",
       "\n",
       "    .dataframe tbody tr th {\n",
       "        vertical-align: top;\n",
       "    }\n",
       "\n",
       "    .dataframe thead th {\n",
       "        text-align: right;\n",
       "    }\n",
       "</style>\n",
       "<table border=\"1\" class=\"dataframe\">\n",
       "  <thead>\n",
       "    <tr style=\"text-align: right;\">\n",
       "      <th></th>\n",
       "      <th>Unnamed: 0</th>\n",
       "      <th>id</th>\n",
       "      <th>loan_amnt</th>\n",
       "      <th>funded_amnt</th>\n",
       "      <th>funded_amnt_inv</th>\n",
       "      <th>term</th>\n",
       "      <th>int_rate</th>\n",
       "      <th>installment</th>\n",
       "      <th>grade</th>\n",
       "      <th>sub_grade</th>\n",
       "      <th>...</th>\n",
       "      <th>tot_hi_cred_lim_scaled</th>\n",
       "      <th>total_bal_ex_mort_scaled</th>\n",
       "      <th>total_bc_limit_scaled</th>\n",
       "      <th>total_il_high_credit_limit_scaled</th>\n",
       "      <th>emp_length_int_scaled</th>\n",
       "      <th>mths_since_earliest_cr_line_scaled</th>\n",
       "      <th>term_int_scaled</th>\n",
       "      <th>mths_since_issue_d_scaled</th>\n",
       "      <th>recovery_rate</th>\n",
       "      <th>LGD</th>\n",
       "    </tr>\n",
       "  </thead>\n",
       "  <tbody>\n",
       "    <tr>\n",
       "      <th>0</th>\n",
       "      <td>99617</td>\n",
       "      <td>110773804</td>\n",
       "      <td>4650.0</td>\n",
       "      <td>4650.0</td>\n",
       "      <td>4650.00</td>\n",
       "      <td>36 months</td>\n",
       "      <td>9.44</td>\n",
       "      <td>148.83</td>\n",
       "      <td>B</td>\n",
       "      <td>B1</td>\n",
       "      <td>...</td>\n",
       "      <td>0.001060</td>\n",
       "      <td>0.002136</td>\n",
       "      <td>0.016876</td>\n",
       "      <td>0.000000</td>\n",
       "      <td>0.0</td>\n",
       "      <td>0.278705</td>\n",
       "      <td>0.0</td>\n",
       "      <td>0.047619</td>\n",
       "      <td>0.023564</td>\n",
       "      <td>0.976436</td>\n",
       "    </tr>\n",
       "    <tr>\n",
       "      <th>1</th>\n",
       "      <td>57816</td>\n",
       "      <td>291118</td>\n",
       "      <td>10000.0</td>\n",
       "      <td>10000.0</td>\n",
       "      <td>7657.04</td>\n",
       "      <td>36 months</td>\n",
       "      <td>10.39</td>\n",
       "      <td>324.51</td>\n",
       "      <td>B</td>\n",
       "      <td>B4</td>\n",
       "      <td>...</td>\n",
       "      <td>0.000000</td>\n",
       "      <td>0.000000</td>\n",
       "      <td>0.000000</td>\n",
       "      <td>0.000000</td>\n",
       "      <td>0.4</td>\n",
       "      <td>0.222767</td>\n",
       "      <td>0.0</td>\n",
       "      <td>0.928571</td>\n",
       "      <td>0.016281</td>\n",
       "      <td>0.983719</td>\n",
       "    </tr>\n",
       "    <tr>\n",
       "      <th>2</th>\n",
       "      <td>47489</td>\n",
       "      <td>103127561</td>\n",
       "      <td>2000.0</td>\n",
       "      <td>2000.0</td>\n",
       "      <td>2000.00</td>\n",
       "      <td>36 months</td>\n",
       "      <td>14.99</td>\n",
       "      <td>69.33</td>\n",
       "      <td>C</td>\n",
       "      <td>C4</td>\n",
       "      <td>...</td>\n",
       "      <td>0.003000</td>\n",
       "      <td>0.006153</td>\n",
       "      <td>0.027694</td>\n",
       "      <td>0.008837</td>\n",
       "      <td>1.0</td>\n",
       "      <td>0.416094</td>\n",
       "      <td>0.0</td>\n",
       "      <td>0.071429</td>\n",
       "      <td>0.025227</td>\n",
       "      <td>0.974773</td>\n",
       "    </tr>\n",
       "    <tr>\n",
       "      <th>3</th>\n",
       "      <td>81869</td>\n",
       "      <td>112145963</td>\n",
       "      <td>40000.0</td>\n",
       "      <td>40000.0</td>\n",
       "      <td>40000.00</td>\n",
       "      <td>36 months</td>\n",
       "      <td>12.62</td>\n",
       "      <td>1340.45</td>\n",
       "      <td>C</td>\n",
       "      <td>C1</td>\n",
       "      <td>...</td>\n",
       "      <td>0.037216</td>\n",
       "      <td>0.039478</td>\n",
       "      <td>0.178278</td>\n",
       "      <td>0.066742</td>\n",
       "      <td>1.0</td>\n",
       "      <td>0.364082</td>\n",
       "      <td>0.0</td>\n",
       "      <td>0.039683</td>\n",
       "      <td>0.005925</td>\n",
       "      <td>0.994075</td>\n",
       "    </tr>\n",
       "    <tr>\n",
       "      <th>4</th>\n",
       "      <td>224813</td>\n",
       "      <td>19587473</td>\n",
       "      <td>20000.0</td>\n",
       "      <td>20000.0</td>\n",
       "      <td>20000.00</td>\n",
       "      <td>36 months</td>\n",
       "      <td>9.17</td>\n",
       "      <td>637.58</td>\n",
       "      <td>B</td>\n",
       "      <td>B1</td>\n",
       "      <td>...</td>\n",
       "      <td>0.012880</td>\n",
       "      <td>0.000955</td>\n",
       "      <td>0.014929</td>\n",
       "      <td>0.000000</td>\n",
       "      <td>1.0</td>\n",
       "      <td>0.544652</td>\n",
       "      <td>0.0</td>\n",
       "      <td>0.325397</td>\n",
       "      <td>0.007992</td>\n",
       "      <td>0.992008</td>\n",
       "    </tr>\n",
       "  </tbody>\n",
       "</table>\n",
       "<p>5 rows × 200 columns</p>\n",
       "</div>"
      ],
      "text/plain": [
       "   Unnamed: 0         id  loan_amnt  funded_amnt  funded_amnt_inv        term  \\\n",
       "0       99617  110773804     4650.0       4650.0          4650.00   36 months   \n",
       "1       57816     291118    10000.0      10000.0          7657.04   36 months   \n",
       "2       47489  103127561     2000.0       2000.0          2000.00   36 months   \n",
       "3       81869  112145963    40000.0      40000.0         40000.00   36 months   \n",
       "4      224813   19587473    20000.0      20000.0         20000.00   36 months   \n",
       "\n",
       "   int_rate  installment grade sub_grade  ... tot_hi_cred_lim_scaled  \\\n",
       "0      9.44       148.83     B        B1  ...               0.001060   \n",
       "1     10.39       324.51     B        B4  ...               0.000000   \n",
       "2     14.99        69.33     C        C4  ...               0.003000   \n",
       "3     12.62      1340.45     C        C1  ...               0.037216   \n",
       "4      9.17       637.58     B        B1  ...               0.012880   \n",
       "\n",
       "  total_bal_ex_mort_scaled  total_bc_limit_scaled  \\\n",
       "0                 0.002136               0.016876   \n",
       "1                 0.000000               0.000000   \n",
       "2                 0.006153               0.027694   \n",
       "3                 0.039478               0.178278   \n",
       "4                 0.000955               0.014929   \n",
       "\n",
       "  total_il_high_credit_limit_scaled emp_length_int_scaled  \\\n",
       "0                          0.000000                   0.0   \n",
       "1                          0.000000                   0.4   \n",
       "2                          0.008837                   1.0   \n",
       "3                          0.066742                   1.0   \n",
       "4                          0.000000                   1.0   \n",
       "\n",
       "  mths_since_earliest_cr_line_scaled term_int_scaled  \\\n",
       "0                           0.278705             0.0   \n",
       "1                           0.222767             0.0   \n",
       "2                           0.416094             0.0   \n",
       "3                           0.364082             0.0   \n",
       "4                           0.544652             0.0   \n",
       "\n",
       "  mths_since_issue_d_scaled  recovery_rate       LGD  \n",
       "0                  0.047619       0.023564  0.976436  \n",
       "1                  0.928571       0.016281  0.983719  \n",
       "2                  0.071429       0.025227  0.974773  \n",
       "3                  0.039683       0.005925  0.994075  \n",
       "4                  0.325397       0.007992  0.992008  \n",
       "\n",
       "[5 rows x 200 columns]"
      ]
     },
     "execution_count": 12,
     "metadata": {},
     "output_type": "execute_result"
    }
   ],
   "source": [
    "inputs['LGD'] = 1 - inputs['recovery_rate']\n",
    "inputs.head()\n",
    "# We calculate estimated LGD. Estimated LGD equals 1 - estimated recovery rate."
   ]
  },
  {
   "cell_type": "code",
   "execution_count": 13,
   "id": "6e948d80-866e-4d05-b2c3-de157800f870",
   "metadata": {},
   "outputs": [
    {
     "data": {
      "text/plain": [
       "count    390077.000000\n",
       "mean          0.971526\n",
       "std           0.039744\n",
       "min           0.000207\n",
       "25%           0.964272\n",
       "50%           0.978649\n",
       "75%           0.991246\n",
       "max           1.000000\n",
       "Name: LGD, dtype: float64"
      ]
     },
     "execution_count": 13,
     "metadata": {},
     "output_type": "execute_result"
    }
   ],
   "source": [
    "inputs['LGD'].describe()\n",
    "# Shows some descriptive statisics for the values of a column."
   ]
  },
  {
   "cell_type": "code",
   "execution_count": 14,
   "id": "6b5f2413-3657-456a-85e8-21cebfd0372f",
   "metadata": {},
   "outputs": [],
   "source": [
    "from sklearn import linear_model\n",
    "import scipy.stats as stat\n",
    "\n",
    "class LinearRegression(linear_model.LinearRegression):\n",
    "    \"\"\"\n",
    "    LinearRegression class after sklearn's, but calculate t-statistics\n",
    "    and p-values for model coefficients (betas).\n",
    "    Additional attributes available after .fit()\n",
    "    are `t` and `p` which are of the shape (n_features,)\n",
    "    This class sets the intercept to 0 by default, since usually we include it\n",
    "    in X.\n",
    "    \"\"\"\n",
    "    \n",
    "    def __init__(self, fit_intercept=True, copy_X=True, n_jobs=None, positive=False):\n",
    "        # Initialisation correcte du constructeur de la classe parente\n",
    "        super(LinearRegression, self).__init__(fit_intercept=fit_intercept,\n",
    "                                               copy_X=copy_X,\n",
    "                                               n_jobs=n_jobs, positive=positive)\n",
    "    \n",
    "    def fit(self, X, y):\n",
    "        # Appel à la méthode fit de la classe parente\n",
    "        super(LinearRegression, self).fit(X, y)\n",
    "\n",
    "        # Calcul du SSE (Sum of Squared Errors)\n",
    "        sse = np.sum((self.predict(X) - y) ** 2, axis=0) / float(X.shape[0] - X.shape[1])\n",
    "\n",
    "        # Calcul de l'erreur standard (SE)\n",
    "        se = np.array([np.sqrt(np.diagonal(sse * np.linalg.inv(np.dot(X.T, X))))])\n",
    "\n",
    "        # Calcul du t-statistic pour chaque coefficient\n",
    "        self.t = self.coef_ / se\n",
    "\n",
    "        # Calcul des p-values pour chaque coefficient\n",
    "        self.p = np.squeeze(2 * (1 - stat.t.cdf(np.abs(self.t), X.shape[0] - X.shape[1])))\n",
    "        \n",
    "        return self"
   ]
  },
  {
   "cell_type": "code",
   "execution_count": 15,
   "id": "243ae809-4728-4423-bf6b-911784452bf6",
   "metadata": {},
   "outputs": [
    {
     "name": "stderr",
     "output_type": "stream",
     "text": [
      "C:\\Users\\Pierre Pro\\AppData\\Local\\Temp\\ipykernel_14168\\3984565163.py:4: SettingWithCopyWarning: \n",
      "A value is trying to be set on a copy of a slice from a DataFrame.\n",
      "Try using .loc[row_indexer,col_indexer] = value instead\n",
      "\n",
      "See the caveats in the documentation: https://pandas.pydata.org/pandas-docs/stable/user_guide/indexing.html#returning-a-view-versus-a-copy\n",
      "  inputs_ead['CCF'] = ead_model.predict(inputs_ead)\n"
     ]
    }
   ],
   "source": [
    "inputs_ead = inputs[feature_ead]\n",
    "# Here we take only the accounts that were charged-off (written-off).\n",
    "ead_model = pickle.load(open('ead_model.sav', 'rb'))\n",
    "inputs_ead['CCF'] = ead_model.predict(inputs_ead)\n",
    "# We apply the EAD model to calculate estimated credit conversion factor."
   ]
  },
  {
   "cell_type": "code",
   "execution_count": 16,
   "id": "3ca70fc8-b9fd-4319-aa26-6025daddce9c",
   "metadata": {},
   "outputs": [
    {
     "name": "stdout",
     "output_type": "stream",
     "text": [
      "Index matching : True\n"
     ]
    }
   ],
   "source": [
    "indices_alignes = inputs.index.equals(inputs_ead.index)\n",
    "print(f\"Index matching : {indices_alignes}\")"
   ]
  },
  {
   "cell_type": "code",
   "execution_count": 17,
   "id": "a754e3d2-9c4d-4ae0-b51d-148f430e2947",
   "metadata": {},
   "outputs": [],
   "source": [
    "inputs['CCF'] = inputs_ead['CCF']"
   ]
  },
  {
   "cell_type": "code",
   "execution_count": 18,
   "id": "63306aea-c84e-4d26-832c-a8c7eeeab403",
   "metadata": {},
   "outputs": [],
   "source": [
    "inputs['CCF'] = np.where(inputs['CCF'] < 0, 0, inputs['CCF'])\n",
    "inputs['CCF'] = np.where(inputs['CCF'] > 1, 1, inputs['CCF'])\n",
    "# We set estimated CCF that are greater than 1 to 1 and  estimated CCF that are less than 0 to 0."
   ]
  },
  {
   "cell_type": "code",
   "execution_count": 19,
   "id": "61eb54fc-5c2f-4106-97f4-c9ba51cef6a6",
   "metadata": {},
   "outputs": [],
   "source": [
    "inputs['EAD'] = inputs['CCF'] * inputs['funded_amnt']\n",
    "# We calculate estimated EAD. Estimated EAD equals estimated CCF multiplied by funded amount."
   ]
  },
  {
   "cell_type": "code",
   "execution_count": 20,
   "id": "2f85404b-693f-4dc7-91f0-de9f4ae79886",
   "metadata": {},
   "outputs": [
    {
     "data": {
      "text/plain": [
       "count    390077.000000\n",
       "mean       5145.281317\n",
       "std        5707.826893\n",
       "min           0.000000\n",
       "25%        2291.891174\n",
       "50%        3417.099884\n",
       "75%        5739.870701\n",
       "max       40000.000000\n",
       "Name: EAD, dtype: float64"
      ]
     },
     "execution_count": 20,
     "metadata": {},
     "output_type": "execute_result"
    }
   ],
   "source": [
    "inputs['EAD'].describe()\n",
    "# Shows some descriptive statisics for the values of a column."
   ]
  },
  {
   "cell_type": "code",
   "execution_count": 21,
   "id": "6ef310ee-fd73-40ad-8ff0-1c6f08c1fa33",
   "metadata": {},
   "outputs": [
    {
     "data": {
      "text/html": [
       "<div>\n",
       "<style scoped>\n",
       "    .dataframe tbody tr th:only-of-type {\n",
       "        vertical-align: middle;\n",
       "    }\n",
       "\n",
       "    .dataframe tbody tr th {\n",
       "        vertical-align: top;\n",
       "    }\n",
       "\n",
       "    .dataframe thead th {\n",
       "        text-align: right;\n",
       "    }\n",
       "</style>\n",
       "<table border=\"1\" class=\"dataframe\">\n",
       "  <thead>\n",
       "    <tr style=\"text-align: right;\">\n",
       "      <th></th>\n",
       "      <th>Unnamed: 0</th>\n",
       "      <th>id</th>\n",
       "      <th>loan_amnt</th>\n",
       "      <th>funded_amnt</th>\n",
       "      <th>funded_amnt_inv</th>\n",
       "      <th>term</th>\n",
       "      <th>int_rate</th>\n",
       "      <th>installment</th>\n",
       "      <th>grade</th>\n",
       "      <th>sub_grade</th>\n",
       "      <th>...</th>\n",
       "      <th>total_bc_limit_scaled</th>\n",
       "      <th>total_il_high_credit_limit_scaled</th>\n",
       "      <th>emp_length_int_scaled</th>\n",
       "      <th>mths_since_earliest_cr_line_scaled</th>\n",
       "      <th>term_int_scaled</th>\n",
       "      <th>mths_since_issue_d_scaled</th>\n",
       "      <th>recovery_rate</th>\n",
       "      <th>LGD</th>\n",
       "      <th>CCF</th>\n",
       "      <th>EAD</th>\n",
       "    </tr>\n",
       "  </thead>\n",
       "  <tbody>\n",
       "    <tr>\n",
       "      <th>0</th>\n",
       "      <td>99617</td>\n",
       "      <td>110773804</td>\n",
       "      <td>4650.0</td>\n",
       "      <td>4650.0</td>\n",
       "      <td>4650.00</td>\n",
       "      <td>36 months</td>\n",
       "      <td>9.44</td>\n",
       "      <td>148.83</td>\n",
       "      <td>B</td>\n",
       "      <td>B1</td>\n",
       "      <td>...</td>\n",
       "      <td>0.016876</td>\n",
       "      <td>0.000000</td>\n",
       "      <td>0.0</td>\n",
       "      <td>0.278705</td>\n",
       "      <td>0.0</td>\n",
       "      <td>0.047619</td>\n",
       "      <td>0.023564</td>\n",
       "      <td>0.976436</td>\n",
       "      <td>0.574358</td>\n",
       "      <td>2670.767000</td>\n",
       "    </tr>\n",
       "    <tr>\n",
       "      <th>1</th>\n",
       "      <td>57816</td>\n",
       "      <td>291118</td>\n",
       "      <td>10000.0</td>\n",
       "      <td>10000.0</td>\n",
       "      <td>7657.04</td>\n",
       "      <td>36 months</td>\n",
       "      <td>10.39</td>\n",
       "      <td>324.51</td>\n",
       "      <td>B</td>\n",
       "      <td>B4</td>\n",
       "      <td>...</td>\n",
       "      <td>0.000000</td>\n",
       "      <td>0.000000</td>\n",
       "      <td>0.4</td>\n",
       "      <td>0.222767</td>\n",
       "      <td>0.0</td>\n",
       "      <td>0.928571</td>\n",
       "      <td>0.016281</td>\n",
       "      <td>0.983719</td>\n",
       "      <td>0.281416</td>\n",
       "      <td>2814.164019</td>\n",
       "    </tr>\n",
       "    <tr>\n",
       "      <th>2</th>\n",
       "      <td>47489</td>\n",
       "      <td>103127561</td>\n",
       "      <td>2000.0</td>\n",
       "      <td>2000.0</td>\n",
       "      <td>2000.00</td>\n",
       "      <td>36 months</td>\n",
       "      <td>14.99</td>\n",
       "      <td>69.33</td>\n",
       "      <td>C</td>\n",
       "      <td>C4</td>\n",
       "      <td>...</td>\n",
       "      <td>0.027694</td>\n",
       "      <td>0.008837</td>\n",
       "      <td>1.0</td>\n",
       "      <td>0.416094</td>\n",
       "      <td>0.0</td>\n",
       "      <td>0.071429</td>\n",
       "      <td>0.025227</td>\n",
       "      <td>0.974773</td>\n",
       "      <td>0.662955</td>\n",
       "      <td>1325.909472</td>\n",
       "    </tr>\n",
       "    <tr>\n",
       "      <th>3</th>\n",
       "      <td>81869</td>\n",
       "      <td>112145963</td>\n",
       "      <td>40000.0</td>\n",
       "      <td>40000.0</td>\n",
       "      <td>40000.00</td>\n",
       "      <td>36 months</td>\n",
       "      <td>12.62</td>\n",
       "      <td>1340.45</td>\n",
       "      <td>C</td>\n",
       "      <td>C1</td>\n",
       "      <td>...</td>\n",
       "      <td>0.178278</td>\n",
       "      <td>0.066742</td>\n",
       "      <td>1.0</td>\n",
       "      <td>0.364082</td>\n",
       "      <td>0.0</td>\n",
       "      <td>0.039683</td>\n",
       "      <td>0.005925</td>\n",
       "      <td>0.994075</td>\n",
       "      <td>0.300269</td>\n",
       "      <td>12010.751518</td>\n",
       "    </tr>\n",
       "    <tr>\n",
       "      <th>4</th>\n",
       "      <td>224813</td>\n",
       "      <td>19587473</td>\n",
       "      <td>20000.0</td>\n",
       "      <td>20000.0</td>\n",
       "      <td>20000.00</td>\n",
       "      <td>36 months</td>\n",
       "      <td>9.17</td>\n",
       "      <td>637.58</td>\n",
       "      <td>B</td>\n",
       "      <td>B1</td>\n",
       "      <td>...</td>\n",
       "      <td>0.014929</td>\n",
       "      <td>0.000000</td>\n",
       "      <td>1.0</td>\n",
       "      <td>0.544652</td>\n",
       "      <td>0.0</td>\n",
       "      <td>0.325397</td>\n",
       "      <td>0.007992</td>\n",
       "      <td>0.992008</td>\n",
       "      <td>0.035735</td>\n",
       "      <td>714.709407</td>\n",
       "    </tr>\n",
       "  </tbody>\n",
       "</table>\n",
       "<p>5 rows × 202 columns</p>\n",
       "</div>"
      ],
      "text/plain": [
       "   Unnamed: 0         id  loan_amnt  funded_amnt  funded_amnt_inv        term  \\\n",
       "0       99617  110773804     4650.0       4650.0          4650.00   36 months   \n",
       "1       57816     291118    10000.0      10000.0          7657.04   36 months   \n",
       "2       47489  103127561     2000.0       2000.0          2000.00   36 months   \n",
       "3       81869  112145963    40000.0      40000.0         40000.00   36 months   \n",
       "4      224813   19587473    20000.0      20000.0         20000.00   36 months   \n",
       "\n",
       "   int_rate  installment grade sub_grade  ... total_bc_limit_scaled  \\\n",
       "0      9.44       148.83     B        B1  ...              0.016876   \n",
       "1     10.39       324.51     B        B4  ...              0.000000   \n",
       "2     14.99        69.33     C        C4  ...              0.027694   \n",
       "3     12.62      1340.45     C        C1  ...              0.178278   \n",
       "4      9.17       637.58     B        B1  ...              0.014929   \n",
       "\n",
       "  total_il_high_credit_limit_scaled  emp_length_int_scaled  \\\n",
       "0                          0.000000                    0.0   \n",
       "1                          0.000000                    0.4   \n",
       "2                          0.008837                    1.0   \n",
       "3                          0.066742                    1.0   \n",
       "4                          0.000000                    1.0   \n",
       "\n",
       "  mths_since_earliest_cr_line_scaled term_int_scaled  \\\n",
       "0                           0.278705             0.0   \n",
       "1                           0.222767             0.0   \n",
       "2                           0.416094             0.0   \n",
       "3                           0.364082             0.0   \n",
       "4                           0.544652             0.0   \n",
       "\n",
       "  mths_since_issue_d_scaled recovery_rate       LGD       CCF           EAD  \n",
       "0                  0.047619      0.023564  0.976436  0.574358   2670.767000  \n",
       "1                  0.928571      0.016281  0.983719  0.281416   2814.164019  \n",
       "2                  0.071429      0.025227  0.974773  0.662955   1325.909472  \n",
       "3                  0.039683      0.005925  0.994075  0.300269  12010.751518  \n",
       "4                  0.325397      0.007992  0.992008  0.035735    714.709407  \n",
       "\n",
       "[5 rows x 202 columns]"
      ]
     },
     "execution_count": 21,
     "metadata": {},
     "output_type": "execute_result"
    }
   ],
   "source": [
    "inputs.head()"
   ]
  },
  {
   "cell_type": "code",
   "execution_count": 25,
   "id": "fc6ca9f9-c07a-4fb1-9257-2b020e8f138e",
   "metadata": {},
   "outputs": [],
   "source": [
    "import pickle\n",
    "import statsmodels.api as sm\n",
    "from sklearn.linear_model import LogisticRegression\n",
    "import scipy.stats as stat\n",
    "\n",
    "class LogisticRegression_with_p_values2:\n",
    "    \n",
    "    def __init__(self, *args, **kwargs):\n",
    "        if 'max_iter' not in kwargs:\n",
    "            kwargs['max_iter'] = 1000\n",
    "        self.model = LogisticRegression(*args, **kwargs)\n",
    "\n",
    "    def fit(self, X, y):\n",
    "        # Ajuster le modèle\n",
    "        self.model.fit(X, y.values.ravel())  # Utilisez .ravel() pour aplatir la dataframe en vecteur\n",
    "        \n",
    "        # Convertir les données pour statsmodels\n",
    "        X_sm = sm.add_constant(X)\n",
    "        model_sm = sm.Logit(y, X_sm)\n",
    "        result = model_sm.fit()\n",
    "        \n",
    "        # Obtenir les p-values\n",
    "        self.coef_ = self.model.coef_\n",
    "        self.intercept_ = self.model.intercept_\n",
    "        self.p_values = result.pvalues[1:]  # Exclure l'interception"
   ]
  },
  {
   "cell_type": "code",
   "execution_count": 27,
   "id": "e51089b4-a24e-4115-a849-5d44e6aadc56",
   "metadata": {},
   "outputs": [],
   "source": [
    "inputs_pd = inputs[feature_pd]\n",
    "# Here we keep only the variables we need for the model.\n",
    "pd_model = pickle.load(open('pd_model.sav', 'rb'))"
   ]
  },
  {
   "cell_type": "code",
   "execution_count": 29,
   "id": "0b7d26b6-183f-4aff-a765-682079dcea04",
   "metadata": {},
   "outputs": [
    {
     "data": {
      "text/plain": [
       "(390077, 46)"
      ]
     },
     "execution_count": 29,
     "metadata": {},
     "output_type": "execute_result"
    }
   ],
   "source": [
    "inputs_pd.shape"
   ]
  },
  {
   "cell_type": "code",
   "execution_count": 30,
   "id": "7d6c697f-4882-4734-ae4b-de6553f671be",
   "metadata": {},
   "outputs": [
    {
     "name": "stderr",
     "output_type": "stream",
     "text": [
      "C:\\Users\\Pierre Pro\\AppData\\Local\\Temp\\ipykernel_14168\\4217429293.py:1: SettingWithCopyWarning: \n",
      "A value is trying to be set on a copy of a slice from a DataFrame.\n",
      "Try using .loc[row_indexer,col_indexer] = value instead\n",
      "\n",
      "See the caveats in the documentation: https://pandas.pydata.org/pandas-docs/stable/user_guide/indexing.html#returning-a-view-versus-a-copy\n",
      "  inputs_pd['PD'] = pd_model.model.predict_proba(inputs_pd)[: ][: , 1]\n"
     ]
    }
   ],
   "source": [
    "inputs_pd['PD'] = pd_model.model.predict_proba(inputs_pd)[: ][: , 1]\n",
    "# We apply the PD model to caclulate estimated default probabilities."
   ]
  },
  {
   "cell_type": "code",
   "execution_count": 31,
   "id": "85b0b8a8-f98b-427c-bbc1-b3b0047294ef",
   "metadata": {},
   "outputs": [
    {
     "name": "stdout",
     "output_type": "stream",
     "text": [
      "Index matching : True\n"
     ]
    }
   ],
   "source": [
    "indices_alignes = inputs.index.equals(inputs_pd.index)\n",
    "print(f\"Index matching : {indices_alignes}\")"
   ]
  },
  {
   "cell_type": "code",
   "execution_count": 40,
   "id": "7df4aff8-54c4-4d4d-a9ce-5275e6252f04",
   "metadata": {},
   "outputs": [],
   "source": [
    "inputs['PD'] = inputs_pd['PD']"
   ]
  },
  {
   "cell_type": "code",
   "execution_count": 42,
   "id": "a7cc3390-2308-40d2-8d8b-d9f3c93110be",
   "metadata": {},
   "outputs": [
    {
     "data": {
      "text/plain": [
       "0    0.001263\n",
       "1    0.014664\n",
       "2    0.002879\n",
       "3    0.072349\n",
       "4    0.000167\n",
       "Name: PD, dtype: float64"
      ]
     },
     "execution_count": 42,
     "metadata": {},
     "output_type": "execute_result"
    }
   ],
   "source": [
    "inputs['PD'].head()"
   ]
  },
  {
   "cell_type": "code",
   "execution_count": 43,
   "id": "ac16a853-0b8b-445f-9ae8-ccaf5179d82f",
   "metadata": {},
   "outputs": [
    {
     "data": {
      "text/plain": [
       "count    3.900770e+05\n",
       "mean     1.595580e-01\n",
       "std      3.371605e-01\n",
       "min      4.016297e-14\n",
       "25%      5.178669e-04\n",
       "50%      6.634522e-03\n",
       "75%      4.352194e-02\n",
       "max      1.000000e+00\n",
       "Name: PD, dtype: float64"
      ]
     },
     "execution_count": 43,
     "metadata": {},
     "output_type": "execute_result"
    }
   ],
   "source": [
    "inputs['PD'].describe()\n",
    "# Shows some descriptive statisics for the values of a column."
   ]
  },
  {
   "cell_type": "code",
   "execution_count": 54,
   "id": "f754a762-6061-4561-962f-27b812b608c4",
   "metadata": {},
   "outputs": [
    {
     "data": {
      "text/html": [
       "<div>\n",
       "<style scoped>\n",
       "    .dataframe tbody tr th:only-of-type {\n",
       "        vertical-align: middle;\n",
       "    }\n",
       "\n",
       "    .dataframe tbody tr th {\n",
       "        vertical-align: top;\n",
       "    }\n",
       "\n",
       "    .dataframe thead th {\n",
       "        text-align: right;\n",
       "    }\n",
       "</style>\n",
       "<table border=\"1\" class=\"dataframe\">\n",
       "  <thead>\n",
       "    <tr style=\"text-align: right;\">\n",
       "      <th></th>\n",
       "      <th>Unnamed: 0</th>\n",
       "      <th>id</th>\n",
       "      <th>loan_amnt</th>\n",
       "      <th>funded_amnt</th>\n",
       "      <th>funded_amnt_inv</th>\n",
       "      <th>term</th>\n",
       "      <th>int_rate</th>\n",
       "      <th>installment</th>\n",
       "      <th>grade</th>\n",
       "      <th>sub_grade</th>\n",
       "      <th>...</th>\n",
       "      <th>total_il_high_credit_limit_scaled</th>\n",
       "      <th>emp_length_int_scaled</th>\n",
       "      <th>mths_since_earliest_cr_line_scaled</th>\n",
       "      <th>term_int_scaled</th>\n",
       "      <th>mths_since_issue_d_scaled</th>\n",
       "      <th>recovery_rate</th>\n",
       "      <th>LGD</th>\n",
       "      <th>CCF</th>\n",
       "      <th>EAD</th>\n",
       "      <th>PD</th>\n",
       "    </tr>\n",
       "  </thead>\n",
       "  <tbody>\n",
       "    <tr>\n",
       "      <th>0</th>\n",
       "      <td>99617</td>\n",
       "      <td>110773804</td>\n",
       "      <td>4650.0</td>\n",
       "      <td>4650.0</td>\n",
       "      <td>4650.00</td>\n",
       "      <td>36 months</td>\n",
       "      <td>9.44</td>\n",
       "      <td>148.83</td>\n",
       "      <td>B</td>\n",
       "      <td>B1</td>\n",
       "      <td>...</td>\n",
       "      <td>0.000000</td>\n",
       "      <td>0.0</td>\n",
       "      <td>0.278705</td>\n",
       "      <td>0.0</td>\n",
       "      <td>0.047619</td>\n",
       "      <td>0.023564</td>\n",
       "      <td>0.976436</td>\n",
       "      <td>0.574358</td>\n",
       "      <td>2670.767000</td>\n",
       "      <td>0.001263</td>\n",
       "    </tr>\n",
       "    <tr>\n",
       "      <th>1</th>\n",
       "      <td>57816</td>\n",
       "      <td>291118</td>\n",
       "      <td>10000.0</td>\n",
       "      <td>10000.0</td>\n",
       "      <td>7657.04</td>\n",
       "      <td>36 months</td>\n",
       "      <td>10.39</td>\n",
       "      <td>324.51</td>\n",
       "      <td>B</td>\n",
       "      <td>B4</td>\n",
       "      <td>...</td>\n",
       "      <td>0.000000</td>\n",
       "      <td>0.4</td>\n",
       "      <td>0.222767</td>\n",
       "      <td>0.0</td>\n",
       "      <td>0.928571</td>\n",
       "      <td>0.016281</td>\n",
       "      <td>0.983719</td>\n",
       "      <td>0.281416</td>\n",
       "      <td>2814.164019</td>\n",
       "      <td>0.014664</td>\n",
       "    </tr>\n",
       "    <tr>\n",
       "      <th>2</th>\n",
       "      <td>47489</td>\n",
       "      <td>103127561</td>\n",
       "      <td>2000.0</td>\n",
       "      <td>2000.0</td>\n",
       "      <td>2000.00</td>\n",
       "      <td>36 months</td>\n",
       "      <td>14.99</td>\n",
       "      <td>69.33</td>\n",
       "      <td>C</td>\n",
       "      <td>C4</td>\n",
       "      <td>...</td>\n",
       "      <td>0.008837</td>\n",
       "      <td>1.0</td>\n",
       "      <td>0.416094</td>\n",
       "      <td>0.0</td>\n",
       "      <td>0.071429</td>\n",
       "      <td>0.025227</td>\n",
       "      <td>0.974773</td>\n",
       "      <td>0.662955</td>\n",
       "      <td>1325.909472</td>\n",
       "      <td>0.002879</td>\n",
       "    </tr>\n",
       "    <tr>\n",
       "      <th>3</th>\n",
       "      <td>81869</td>\n",
       "      <td>112145963</td>\n",
       "      <td>40000.0</td>\n",
       "      <td>40000.0</td>\n",
       "      <td>40000.00</td>\n",
       "      <td>36 months</td>\n",
       "      <td>12.62</td>\n",
       "      <td>1340.45</td>\n",
       "      <td>C</td>\n",
       "      <td>C1</td>\n",
       "      <td>...</td>\n",
       "      <td>0.066742</td>\n",
       "      <td>1.0</td>\n",
       "      <td>0.364082</td>\n",
       "      <td>0.0</td>\n",
       "      <td>0.039683</td>\n",
       "      <td>0.005925</td>\n",
       "      <td>0.994075</td>\n",
       "      <td>0.300269</td>\n",
       "      <td>12010.751518</td>\n",
       "      <td>0.072349</td>\n",
       "    </tr>\n",
       "    <tr>\n",
       "      <th>4</th>\n",
       "      <td>224813</td>\n",
       "      <td>19587473</td>\n",
       "      <td>20000.0</td>\n",
       "      <td>20000.0</td>\n",
       "      <td>20000.00</td>\n",
       "      <td>36 months</td>\n",
       "      <td>9.17</td>\n",
       "      <td>637.58</td>\n",
       "      <td>B</td>\n",
       "      <td>B1</td>\n",
       "      <td>...</td>\n",
       "      <td>0.000000</td>\n",
       "      <td>1.0</td>\n",
       "      <td>0.544652</td>\n",
       "      <td>0.0</td>\n",
       "      <td>0.325397</td>\n",
       "      <td>0.007992</td>\n",
       "      <td>0.992008</td>\n",
       "      <td>0.035735</td>\n",
       "      <td>714.709407</td>\n",
       "      <td>0.000167</td>\n",
       "    </tr>\n",
       "  </tbody>\n",
       "</table>\n",
       "<p>5 rows × 203 columns</p>\n",
       "</div>"
      ],
      "text/plain": [
       "   Unnamed: 0         id  loan_amnt  funded_amnt  funded_amnt_inv        term  \\\n",
       "0       99617  110773804     4650.0       4650.0          4650.00   36 months   \n",
       "1       57816     291118    10000.0      10000.0          7657.04   36 months   \n",
       "2       47489  103127561     2000.0       2000.0          2000.00   36 months   \n",
       "3       81869  112145963    40000.0      40000.0         40000.00   36 months   \n",
       "4      224813   19587473    20000.0      20000.0         20000.00   36 months   \n",
       "\n",
       "   int_rate  installment grade sub_grade  ...  \\\n",
       "0      9.44       148.83     B        B1  ...   \n",
       "1     10.39       324.51     B        B4  ...   \n",
       "2     14.99        69.33     C        C4  ...   \n",
       "3     12.62      1340.45     C        C1  ...   \n",
       "4      9.17       637.58     B        B1  ...   \n",
       "\n",
       "  total_il_high_credit_limit_scaled emp_length_int_scaled  \\\n",
       "0                          0.000000                   0.0   \n",
       "1                          0.000000                   0.4   \n",
       "2                          0.008837                   1.0   \n",
       "3                          0.066742                   1.0   \n",
       "4                          0.000000                   1.0   \n",
       "\n",
       "   mths_since_earliest_cr_line_scaled term_int_scaled  \\\n",
       "0                            0.278705             0.0   \n",
       "1                            0.222767             0.0   \n",
       "2                            0.416094             0.0   \n",
       "3                            0.364082             0.0   \n",
       "4                            0.544652             0.0   \n",
       "\n",
       "  mths_since_issue_d_scaled recovery_rate       LGD       CCF           EAD  \\\n",
       "0                  0.047619      0.023564  0.976436  0.574358   2670.767000   \n",
       "1                  0.928571      0.016281  0.983719  0.281416   2814.164019   \n",
       "2                  0.071429      0.025227  0.974773  0.662955   1325.909472   \n",
       "3                  0.039683      0.005925  0.994075  0.300269  12010.751518   \n",
       "4                  0.325397      0.007992  0.992008  0.035735    714.709407   \n",
       "\n",
       "         PD  \n",
       "0  0.001263  \n",
       "1  0.014664  \n",
       "2  0.002879  \n",
       "3  0.072349  \n",
       "4  0.000167  \n",
       "\n",
       "[5 rows x 203 columns]"
      ]
     },
     "execution_count": 54,
     "metadata": {},
     "output_type": "execute_result"
    }
   ],
   "source": [
    "pd.options.display.max_rows = None\n",
    "inputs.head()"
   ]
  },
  {
   "cell_type": "code",
   "execution_count": 56,
   "id": "54e27598-29d0-44c7-992a-2d173a72a1de",
   "metadata": {},
   "outputs": [],
   "source": [
    "inputs['EL'] = inputs['PD'] * inputs['LGD'] * inputs['EAD']\n",
    "# We calculate Expected Loss. EL = PD * LGD * EAD."
   ]
  },
  {
   "cell_type": "code",
   "execution_count": 57,
   "id": "75dcc328-ed82-4180-a8a2-fe4530bd6cdd",
   "metadata": {},
   "outputs": [
    {
     "data": {
      "text/plain": [
       "count    390077.000000\n",
       "mean       1573.165561\n",
       "std        4442.628499\n",
       "min           0.000000\n",
       "25%           0.616544\n",
       "50%          19.049796\n",
       "75%         237.532174\n",
       "max       39651.272111\n",
       "Name: EL, dtype: float64"
      ]
     },
     "execution_count": 57,
     "metadata": {},
     "output_type": "execute_result"
    }
   ],
   "source": [
    "inputs['EL'].describe()\n",
    "# Shows some descriptive statisics for the values of a column."
   ]
  },
  {
   "cell_type": "code",
   "execution_count": 58,
   "id": "42028f7e-b5c2-4616-82c6-644a64d9f1e3",
   "metadata": {},
   "outputs": [
    {
     "data": {
      "text/html": [
       "<div>\n",
       "<style scoped>\n",
       "    .dataframe tbody tr th:only-of-type {\n",
       "        vertical-align: middle;\n",
       "    }\n",
       "\n",
       "    .dataframe tbody tr th {\n",
       "        vertical-align: top;\n",
       "    }\n",
       "\n",
       "    .dataframe thead th {\n",
       "        text-align: right;\n",
       "    }\n",
       "</style>\n",
       "<table border=\"1\" class=\"dataframe\">\n",
       "  <thead>\n",
       "    <tr style=\"text-align: right;\">\n",
       "      <th></th>\n",
       "      <th>funded_amnt</th>\n",
       "      <th>PD</th>\n",
       "      <th>LGD</th>\n",
       "      <th>EAD</th>\n",
       "      <th>EL</th>\n",
       "    </tr>\n",
       "  </thead>\n",
       "  <tbody>\n",
       "    <tr>\n",
       "      <th>0</th>\n",
       "      <td>4650.0</td>\n",
       "      <td>0.001263</td>\n",
       "      <td>0.976436</td>\n",
       "      <td>2670.767000</td>\n",
       "      <td>3.292475</td>\n",
       "    </tr>\n",
       "    <tr>\n",
       "      <th>1</th>\n",
       "      <td>10000.0</td>\n",
       "      <td>0.014664</td>\n",
       "      <td>0.983719</td>\n",
       "      <td>2814.164019</td>\n",
       "      <td>40.594904</td>\n",
       "    </tr>\n",
       "    <tr>\n",
       "      <th>2</th>\n",
       "      <td>2000.0</td>\n",
       "      <td>0.002879</td>\n",
       "      <td>0.974773</td>\n",
       "      <td>1325.909472</td>\n",
       "      <td>3.721409</td>\n",
       "    </tr>\n",
       "    <tr>\n",
       "      <th>3</th>\n",
       "      <td>40000.0</td>\n",
       "      <td>0.072349</td>\n",
       "      <td>0.994075</td>\n",
       "      <td>12010.751518</td>\n",
       "      <td>863.815369</td>\n",
       "    </tr>\n",
       "    <tr>\n",
       "      <th>4</th>\n",
       "      <td>20000.0</td>\n",
       "      <td>0.000167</td>\n",
       "      <td>0.992008</td>\n",
       "      <td>714.709407</td>\n",
       "      <td>0.118714</td>\n",
       "    </tr>\n",
       "  </tbody>\n",
       "</table>\n",
       "</div>"
      ],
      "text/plain": [
       "   funded_amnt        PD       LGD           EAD          EL\n",
       "0       4650.0  0.001263  0.976436   2670.767000    3.292475\n",
       "1      10000.0  0.014664  0.983719   2814.164019   40.594904\n",
       "2       2000.0  0.002879  0.974773   1325.909472    3.721409\n",
       "3      40000.0  0.072349  0.994075  12010.751518  863.815369\n",
       "4      20000.0  0.000167  0.992008    714.709407    0.118714"
      ]
     },
     "execution_count": 58,
     "metadata": {},
     "output_type": "execute_result"
    }
   ],
   "source": [
    "inputs[['funded_amnt', 'PD', 'LGD', 'EAD', 'EL']].head()"
   ]
  },
  {
   "cell_type": "code",
   "execution_count": 59,
   "id": "b8f92697-8617-4494-a54c-1b8ae49c9a35",
   "metadata": {},
   "outputs": [
    {
     "data": {
      "text/plain": [
       "count    390077.000000\n",
       "mean      14763.861686\n",
       "std        8882.078068\n",
       "min         500.000000\n",
       "25%        8000.000000\n",
       "50%       12600.000000\n",
       "75%       20000.000000\n",
       "max       40000.000000\n",
       "Name: funded_amnt, dtype: float64"
      ]
     },
     "execution_count": 59,
     "metadata": {},
     "output_type": "execute_result"
    }
   ],
   "source": [
    "inputs = inputs.loc[:, ~inputs.columns.duplicated()]\n",
    "inputs['funded_amnt'].describe()"
   ]
  },
  {
   "cell_type": "code",
   "execution_count": 60,
   "id": "7871f5df-6075-46da-8d28-dde180021bf7",
   "metadata": {},
   "outputs": [
    {
     "data": {
      "text/plain": [
       "613655702.723173"
      ]
     },
     "execution_count": 60,
     "metadata": {},
     "output_type": "execute_result"
    }
   ],
   "source": [
    "inputs['EL'].sum()\n",
    "# Total Expected Loss for all loans."
   ]
  },
  {
   "cell_type": "code",
   "execution_count": 61,
   "id": "ba6fce86-7c7d-4bf2-b2f2-0fa840bedc70",
   "metadata": {},
   "outputs": [
    {
     "data": {
      "text/plain": [
       "5759042875.0"
      ]
     },
     "execution_count": 61,
     "metadata": {},
     "output_type": "execute_result"
    }
   ],
   "source": [
    "inputs['funded_amnt'].sum()\n",
    "# Total funded amount for all loans."
   ]
  },
  {
   "cell_type": "code",
   "execution_count": 62,
   "id": "d9f87998-b4df-4fdd-8571-45d6e63ab171",
   "metadata": {
    "scrolled": true
   },
   "outputs": [
    {
     "data": {
      "text/plain": [
       "0.10655515439675782"
      ]
     },
     "execution_count": 62,
     "metadata": {},
     "output_type": "execute_result"
    }
   ],
   "source": [
    "inputs['EL'].sum() / inputs['funded_amnt'].sum()\n",
    "# Total Expected Loss as a proportion of total funded amount for all loans.\n",
    "####\n",
    "####\n",
    "####\n",
    "# THE END."
   ]
  }
 ],
 "metadata": {
  "kernelspec": {
   "display_name": "Python 3 (ipykernel)",
   "language": "python",
   "name": "python3"
  },
  "language_info": {
   "codemirror_mode": {
    "name": "ipython",
    "version": 3
   },
   "file_extension": ".py",
   "mimetype": "text/x-python",
   "name": "python",
   "nbconvert_exporter": "python",
   "pygments_lexer": "ipython3",
   "version": "3.12.4"
  }
 },
 "nbformat": 4,
 "nbformat_minor": 5
}
