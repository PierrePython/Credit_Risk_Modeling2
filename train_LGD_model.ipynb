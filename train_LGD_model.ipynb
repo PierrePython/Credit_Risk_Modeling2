{
 "cells": [
  {
   "cell_type": "markdown",
   "id": "8e6733e6-7f25-4768-8cee-fa58af075af6",
   "metadata": {},
   "source": [
    "# Import Libraries"
   ]
  },
  {
   "cell_type": "code",
   "execution_count": 2,
   "id": "f7111e78-59b7-49df-9e9e-0c573a9f80e1",
   "metadata": {},
   "outputs": [],
   "source": [
    "import numpy as np\n",
    "import pandas as pd\n"
   ]
  },
  {
   "cell_type": "markdown",
   "id": "3c833f83-665e-45e8-bf81-dbeab2486758",
   "metadata": {},
   "source": [
    "# Import Data"
   ]
  },
  {
   "cell_type": "code",
   "execution_count": 4,
   "id": "82f97731-86ef-4918-be4a-eed94dd4a60c",
   "metadata": {
    "scrolled": true
   },
   "outputs": [],
   "source": [
    "# Import data.\n",
    "loan_data_inputs_train = pd.read_csv('loan_data_inputs_train.csv')\n",
    "loan_data_inputs_test = pd.read_csv('loan_data_inputs_test.csv')\n",
    "feature_df = pd.read_csv('feature.csv')"
   ]
  },
  {
   "cell_type": "markdown",
   "id": "e3e08765-f694-4108-9543-6ffed5c5dfc2",
   "metadata": {},
   "source": [
    "# Explore Data"
   ]
  },
  {
   "cell_type": "code",
   "execution_count": 6,
   "id": "7959c315-5cb7-4587-976e-78e2c2a0ff16",
   "metadata": {},
   "outputs": [],
   "source": [
    "inputs = pd.concat([loan_data_inputs_train, loan_data_inputs_test], axis=0)"
   ]
  },
  {
   "cell_type": "code",
   "execution_count": 7,
   "id": "6905149e-6ab5-4d2e-b947-d73e207dc5e1",
   "metadata": {},
   "outputs": [],
   "source": [
    "inputs = inputs[inputs['loan_status'].isin(['Charged Off','Does not meet the credit policy. Status:Charged Off'])]\n",
    "# Here we take only the accounts that were charged-off (written-off)."
   ]
  },
  {
   "cell_type": "code",
   "execution_count": 8,
   "id": "d7c181ce-dc0d-418b-a201-5721ca1a66db",
   "metadata": {},
   "outputs": [],
   "source": [
    "pd.options.display.max_rows = None\n",
    "# Sets the pandas dataframe options to display all columns/ rows."
   ]
  },
  {
   "cell_type": "code",
   "execution_count": 9,
   "id": "0d77a9a0-7a1d-40f6-ad5d-05cfad35f977",
   "metadata": {},
   "outputs": [
    {
     "data": {
      "text/plain": [
       "(57475, 198)"
      ]
     },
     "execution_count": 9,
     "metadata": {},
     "output_type": "execute_result"
    }
   ],
   "source": [
    "inputs.shape"
   ]
  },
  {
   "cell_type": "code",
   "execution_count": 10,
   "id": "d791bd1b-962d-42c1-afe1-5d1caf01ff04",
   "metadata": {},
   "outputs": [
    {
     "data": {
      "text/plain": [
       "Unnamed: 0                               0\n",
       "id                                       0\n",
       "loan_amnt                                0\n",
       "funded_amnt                              0\n",
       "funded_amnt_inv                          0\n",
       "term                                     0\n",
       "int_rate                                 0\n",
       "installment                              0\n",
       "grade                                    0\n",
       "sub_grade                                0\n",
       "emp_length                               0\n",
       "home_ownership                           0\n",
       "annual_inc                               0\n",
       "verification_status                      0\n",
       "issue_d                                  0\n",
       "loan_status                              0\n",
       "purpose                                  0\n",
       "addr_state                               0\n",
       "dti                                      0\n",
       "delinq_2yrs                              0\n",
       "earliest_cr_line                         0\n",
       "fico_range_low                           0\n",
       "fico_range_high                          0\n",
       "inq_last_6mths                           0\n",
       "mths_since_last_delinq                   0\n",
       "mths_since_last_record                   0\n",
       "open_acc                                 0\n",
       "pub_rec                                  0\n",
       "revol_bal                                0\n",
       "revol_util                               0\n",
       "total_acc                                0\n",
       "initial_list_status                      0\n",
       "out_prncp                                0\n",
       "out_prncp_inv                            0\n",
       "total_pymnt                              0\n",
       "total_pymnt_inv                          0\n",
       "total_rec_prncp                          0\n",
       "total_rec_int                            0\n",
       "total_rec_late_fee                       0\n",
       "recoveries                               0\n",
       "collection_recovery_fee                  0\n",
       "last_pymnt_amnt                          0\n",
       "last_fico_range_high                     0\n",
       "last_fico_range_low                      0\n",
       "tot_coll_amt                             0\n",
       "tot_cur_bal                              0\n",
       "open_acc_6m                              0\n",
       "open_act_il                              0\n",
       "open_il_12m                              0\n",
       "open_il_24m                              0\n",
       "mths_since_rcnt_il                       0\n",
       "total_bal_il                             0\n",
       "il_util                                  0\n",
       "open_rv_12m                              0\n",
       "open_rv_24m                              0\n",
       "max_bal_bc                               0\n",
       "all_util                                 0\n",
       "total_rev_hi_lim                         0\n",
       "inq_fi                                   0\n",
       "total_cu_tl                              0\n",
       "inq_last_12m                             0\n",
       "acc_open_past_24mths                     0\n",
       "avg_cur_bal                              0\n",
       "bc_open_to_buy                           0\n",
       "bc_util                                  0\n",
       "chargeoff_within_12_mths                 0\n",
       "delinq_amnt                              0\n",
       "mo_sin_old_il_acct                       0\n",
       "mo_sin_old_rev_tl_op                     0\n",
       "mo_sin_rcnt_rev_tl_op                    0\n",
       "mo_sin_rcnt_tl                           0\n",
       "mort_acc                                 0\n",
       "mths_since_recent_bc                     0\n",
       "mths_since_recent_bc_dlq                 0\n",
       "mths_since_recent_inq                    0\n",
       "mths_since_recent_revol_delinq           0\n",
       "num_accts_ever_120_pd                    0\n",
       "num_actv_bc_tl                           0\n",
       "num_actv_rev_tl                          0\n",
       "num_bc_sats                              0\n",
       "num_bc_tl                                0\n",
       "num_il_tl                                0\n",
       "num_op_rev_tl                            0\n",
       "num_rev_accts                            0\n",
       "num_rev_tl_bal_gt_0                      0\n",
       "num_sats                                 0\n",
       "num_tl_120dpd_2m                         0\n",
       "num_tl_30dpd                             0\n",
       "num_tl_90g_dpd_24m                       0\n",
       "num_tl_op_past_12m                       0\n",
       "pct_tl_nvr_dlq                           0\n",
       "percent_bc_gt_75                         0\n",
       "pub_rec_bankruptcies                     0\n",
       "tax_liens                                0\n",
       "tot_hi_cred_lim                          0\n",
       "total_bal_ex_mort                        0\n",
       "total_bc_limit                           0\n",
       "total_il_high_credit_limit               0\n",
       "emp_length_int                           0\n",
       "earliest_cr_line_date                    0\n",
       "mths_since_earliest_cr_line              0\n",
       "term_int                                 0\n",
       "issue_d_date                             0\n",
       "mths_since_issue_d                       0\n",
       "grade_woe                                0\n",
       "home_ownership_woe                       0\n",
       "addr_state_woe                           0\n",
       "verification_status_woe                  0\n",
       "purpose_woe                              0\n",
       "initial_list_status_woe                  0\n",
       "loan_amnt_scaled                         0\n",
       "funded_amnt_scaled                       0\n",
       "funded_amnt_inv_scaled                   0\n",
       "int_rate_scaled                          0\n",
       "installment_scaled                       0\n",
       "annual_inc_scaled                        0\n",
       "dti_scaled                               0\n",
       "delinq_2yrs_scaled                       0\n",
       "fico_range_low_scaled                    0\n",
       "fico_range_high_scaled                   0\n",
       "inq_last_6mths_scaled                    0\n",
       "mths_since_last_delinq_scaled            0\n",
       "mths_since_last_record_scaled            0\n",
       "open_acc_scaled                          0\n",
       "pub_rec_scaled                           0\n",
       "revol_bal_scaled                         0\n",
       "revol_util_scaled                        0\n",
       "total_acc_scaled                         0\n",
       "out_prncp_scaled                         0\n",
       "out_prncp_inv_scaled                     0\n",
       "total_pymnt_scaled                       0\n",
       "total_pymnt_inv_scaled                   0\n",
       "total_rec_prncp_scaled                   0\n",
       "total_rec_int_scaled                     0\n",
       "total_rec_late_fee_scaled                0\n",
       "recoveries_scaled                        0\n",
       "collection_recovery_fee_scaled           0\n",
       "last_pymnt_amnt_scaled                   0\n",
       "last_fico_range_high_scaled              0\n",
       "last_fico_range_low_scaled               0\n",
       "tot_coll_amt_scaled                      0\n",
       "tot_cur_bal_scaled                       0\n",
       "open_acc_6m_scaled                       0\n",
       "open_act_il_scaled                       0\n",
       "open_il_12m_scaled                       0\n",
       "open_il_24m_scaled                       0\n",
       "mths_since_rcnt_il_scaled                0\n",
       "total_bal_il_scaled                      0\n",
       "il_util_scaled                           0\n",
       "open_rv_12m_scaled                       0\n",
       "open_rv_24m_scaled                       0\n",
       "max_bal_bc_scaled                        0\n",
       "all_util_scaled                          0\n",
       "total_rev_hi_lim_scaled                  0\n",
       "inq_fi_scaled                            0\n",
       "total_cu_tl_scaled                       0\n",
       "inq_last_12m_scaled                      0\n",
       "acc_open_past_24mths_scaled              0\n",
       "avg_cur_bal_scaled                       0\n",
       "bc_open_to_buy_scaled                    0\n",
       "bc_util_scaled                           0\n",
       "chargeoff_within_12_mths_scaled          0\n",
       "delinq_amnt_scaled                       0\n",
       "mo_sin_old_il_acct_scaled                0\n",
       "mo_sin_old_rev_tl_op_scaled              0\n",
       "mo_sin_rcnt_rev_tl_op_scaled             0\n",
       "mo_sin_rcnt_tl_scaled                    0\n",
       "mort_acc_scaled                          0\n",
       "mths_since_recent_bc_scaled              0\n",
       "mths_since_recent_bc_dlq_scaled          0\n",
       "mths_since_recent_inq_scaled             0\n",
       "mths_since_recent_revol_delinq_scaled    0\n",
       "num_accts_ever_120_pd_scaled             0\n",
       "num_actv_bc_tl_scaled                    0\n",
       "num_actv_rev_tl_scaled                   0\n",
       "num_bc_sats_scaled                       0\n",
       "num_bc_tl_scaled                         0\n",
       "num_il_tl_scaled                         0\n",
       "num_op_rev_tl_scaled                     0\n",
       "num_rev_accts_scaled                     0\n",
       "num_rev_tl_bal_gt_0_scaled               0\n",
       "num_sats_scaled                          0\n",
       "num_tl_120dpd_2m_scaled                  0\n",
       "num_tl_30dpd_scaled                      0\n",
       "num_tl_90g_dpd_24m_scaled                0\n",
       "num_tl_op_past_12m_scaled                0\n",
       "pct_tl_nvr_dlq_scaled                    0\n",
       "percent_bc_gt_75_scaled                  0\n",
       "pub_rec_bankruptcies_scaled              0\n",
       "tax_liens_scaled                         0\n",
       "tot_hi_cred_lim_scaled                   0\n",
       "total_bal_ex_mort_scaled                 0\n",
       "total_bc_limit_scaled                    0\n",
       "total_il_high_credit_limit_scaled        0\n",
       "emp_length_int_scaled                    0\n",
       "mths_since_earliest_cr_line_scaled       0\n",
       "term_int_scaled                          0\n",
       "mths_since_issue_d_scaled                0\n",
       "dtype: int64"
      ]
     },
     "execution_count": 10,
     "metadata": {},
     "output_type": "execute_result"
    }
   ],
   "source": [
    "inputs.isnull().sum()"
   ]
  },
  {
   "cell_type": "markdown",
   "id": "0dd1f83a-279f-47fb-be1a-80447647f92d",
   "metadata": {},
   "source": [
    "# Dependent Variables"
   ]
  },
  {
   "cell_type": "code",
   "execution_count": 12,
   "id": "0547bd78-66ea-46f7-ba72-bca77ea9fdf6",
   "metadata": {
    "scrolled": true
   },
   "outputs": [],
   "source": [
    "inputs['recovery_rate'] = inputs['recoveries'] / inputs['funded_amnt']\n",
    "# We calculate the dependent variable for the LGD model: recovery rate.\n",
    "# It is the ratio of recoveries and funded amount."
   ]
  },
  {
   "cell_type": "code",
   "execution_count": 13,
   "id": "b17fc053-28d4-4bef-bd0f-45d6104ac099",
   "metadata": {},
   "outputs": [
    {
     "data": {
      "text/plain": [
       "count    57475.000000\n",
       "mean         0.077137\n",
       "std          0.096184\n",
       "min          0.000000\n",
       "25%          0.000000\n",
       "50%          0.064841\n",
       "75%          0.112922\n",
       "max          1.234850\n",
       "Name: recovery_rate, dtype: float64"
      ]
     },
     "execution_count": 13,
     "metadata": {},
     "output_type": "execute_result"
    }
   ],
   "source": [
    "inputs['recovery_rate'].describe()\n",
    "# Shows some descriptive statisics for the values of a column."
   ]
  },
  {
   "cell_type": "code",
   "execution_count": 14,
   "id": "f7483e9e-b51b-4cef-8a71-da2d2f5d800b",
   "metadata": {},
   "outputs": [],
   "source": [
    "inputs['recovery_rate'] = np.where(inputs['recovery_rate'] > 1, 1, inputs['recovery_rate'])\n",
    "inputs['recovery_rate'] = np.where(inputs['recovery_rate'] < 0, 0, inputs['recovery_rate'])\n",
    "# We set recovery rates that are greater than 1 to 1 and recovery rates that are less than 0 to 0."
   ]
  },
  {
   "cell_type": "code",
   "execution_count": 15,
   "id": "3feafb01-b9e9-48b4-a110-2385449b7962",
   "metadata": {},
   "outputs": [
    {
     "data": {
      "text/plain": [
       "count    57475.000000\n",
       "mean         0.077116\n",
       "std          0.095963\n",
       "min          0.000000\n",
       "25%          0.000000\n",
       "50%          0.064841\n",
       "75%          0.112922\n",
       "max          1.000000\n",
       "Name: recovery_rate, dtype: float64"
      ]
     },
     "execution_count": 15,
     "metadata": {},
     "output_type": "execute_result"
    }
   ],
   "source": [
    "inputs['recovery_rate'].describe()\n",
    "# Shows some descriptive statisics for the values of a column."
   ]
  },
  {
   "cell_type": "markdown",
   "id": "2abf9f05-a6d6-4d75-9b04-10f57a5b52eb",
   "metadata": {},
   "source": [
    "# Explore Dependent Variables"
   ]
  },
  {
   "cell_type": "code",
   "execution_count": 17,
   "id": "51217bf8-f04c-4ead-b5ab-f05f81fd632f",
   "metadata": {},
   "outputs": [],
   "source": [
    "import matplotlib.pyplot as plt\n",
    "import seaborn as sns\n",
    "sns.set()"
   ]
  },
  {
   "cell_type": "code",
   "execution_count": 18,
   "id": "fb209521-0d60-40c1-9dfc-882c9edad049",
   "metadata": {},
   "outputs": [
    {
     "data": {
      "text/plain": [
       "(array([1.9786e+04, 1.0300e+03, 1.2280e+03, 1.6750e+03, 1.7560e+03,\n",
       "        2.2380e+03, 2.2400e+03, 2.8050e+03, 3.2450e+03, 3.5680e+03,\n",
       "        2.7650e+03, 2.5840e+03, 2.6710e+03, 2.3300e+03, 1.0900e+03,\n",
       "        7.3000e+02, 6.5000e+02, 5.8400e+02, 4.3300e+02, 3.6500e+02,\n",
       "        3.6100e+02, 2.5800e+02, 1.8200e+02, 1.6500e+02, 1.3000e+02,\n",
       "        1.1500e+02, 1.2300e+02, 1.1100e+02, 1.3100e+02, 9.4000e+01,\n",
       "        1.1500e+02, 1.1800e+02, 1.1200e+02, 1.1500e+02, 1.2300e+02,\n",
       "        1.2300e+02, 8.8000e+01, 8.8000e+01, 1.0600e+02, 9.1000e+01,\n",
       "        9.4000e+01, 8.8000e+01, 7.4000e+01, 5.6000e+01, 5.9000e+01,\n",
       "        5.7000e+01, 4.6000e+01, 3.9000e+01, 2.4000e+01, 2.4000e+01,\n",
       "        3.8000e+01, 3.0000e+01, 2.8000e+01, 1.5000e+01, 1.6000e+01,\n",
       "        1.7000e+01, 9.0000e+00, 1.3000e+01, 6.0000e+00, 9.0000e+00,\n",
       "        1.5000e+01, 6.0000e+00, 7.0000e+00, 8.0000e+00, 4.0000e+00,\n",
       "        1.2000e+01, 4.0000e+00, 5.0000e+00, 9.0000e+00, 1.0000e+00,\n",
       "        5.0000e+00, 2.0000e+00, 9.0000e+00, 2.0000e+00, 5.0000e+00,\n",
       "        5.0000e+00, 6.0000e+00, 4.0000e+00, 3.0000e+00, 8.0000e+00,\n",
       "        2.0000e+00, 4.0000e+00, 4.0000e+00, 2.0000e+00, 6.0000e+00,\n",
       "        5.0000e+00, 3.0000e+00, 2.0000e+00, 2.0000e+00, 4.0000e+00,\n",
       "        4.0000e+00, 1.0000e+00, 3.0000e+00, 4.0000e+00, 2.0000e+00,\n",
       "        3.0000e+00, 4.0000e+00, 5.0000e+00, 2.0000e+00, 2.9000e+01]),\n",
       " array([0.  , 0.01, 0.02, 0.03, 0.04, 0.05, 0.06, 0.07, 0.08, 0.09, 0.1 ,\n",
       "        0.11, 0.12, 0.13, 0.14, 0.15, 0.16, 0.17, 0.18, 0.19, 0.2 , 0.21,\n",
       "        0.22, 0.23, 0.24, 0.25, 0.26, 0.27, 0.28, 0.29, 0.3 , 0.31, 0.32,\n",
       "        0.33, 0.34, 0.35, 0.36, 0.37, 0.38, 0.39, 0.4 , 0.41, 0.42, 0.43,\n",
       "        0.44, 0.45, 0.46, 0.47, 0.48, 0.49, 0.5 , 0.51, 0.52, 0.53, 0.54,\n",
       "        0.55, 0.56, 0.57, 0.58, 0.59, 0.6 , 0.61, 0.62, 0.63, 0.64, 0.65,\n",
       "        0.66, 0.67, 0.68, 0.69, 0.7 , 0.71, 0.72, 0.73, 0.74, 0.75, 0.76,\n",
       "        0.77, 0.78, 0.79, 0.8 , 0.81, 0.82, 0.83, 0.84, 0.85, 0.86, 0.87,\n",
       "        0.88, 0.89, 0.9 , 0.91, 0.92, 0.93, 0.94, 0.95, 0.96, 0.97, 0.98,\n",
       "        0.99, 1.  ]),\n",
       " <BarContainer object of 100 artists>)"
      ]
     },
     "execution_count": 18,
     "metadata": {},
     "output_type": "execute_result"
    },
    {
     "data": {
      "image/png": "[encoded data removed]",
      "text/plain": [
       "<Figure size 640x480 with 1 Axes>"
      ]
     },
     "metadata": {},
     "output_type": "display_data"
    }
   ],
   "source": [
    "plt.hist(inputs['recovery_rate'], bins = 100)\n",
    "# We plot a histogram of a variable with 100 bins."
   ]
  },
  {
   "cell_type": "code",
   "execution_count": 19,
   "id": "d8ab73e5-75d0-4749-9650-e4c14d046234",
   "metadata": {},
   "outputs": [
    {
     "data": {
      "text/plain": [
       "(array([2.0816e+04, 2.9030e+03, 3.9940e+03, 5.0450e+03, 6.8130e+03,\n",
       "        5.3490e+03, 5.0010e+03, 1.8200e+03, 1.2340e+03, 7.9800e+02,\n",
       "        6.1900e+02, 3.4700e+02, 2.4500e+02, 2.3400e+02, 2.2500e+02,\n",
       "        2.3300e+02, 2.2700e+02, 2.4600e+02, 1.7600e+02, 1.9700e+02,\n",
       "        1.8200e+02, 1.3000e+02, 1.1600e+02, 8.5000e+01, 4.8000e+01,\n",
       "        6.8000e+01, 4.3000e+01, 3.3000e+01, 2.2000e+01, 1.5000e+01,\n",
       "        2.1000e+01, 1.5000e+01, 1.6000e+01, 9.0000e+00, 1.0000e+01,\n",
       "        7.0000e+00, 1.1000e+01, 1.0000e+01, 1.0000e+01, 1.1000e+01,\n",
       "        6.0000e+00, 6.0000e+00, 1.1000e+01, 5.0000e+00, 6.0000e+00,\n",
       "        5.0000e+00, 7.0000e+00, 5.0000e+00, 9.0000e+00, 3.1000e+01]),\n",
       " array([0.  , 0.02, 0.04, 0.06, 0.08, 0.1 , 0.12, 0.14, 0.16, 0.18, 0.2 ,\n",
       "        0.22, 0.24, 0.26, 0.28, 0.3 , 0.32, 0.34, 0.36, 0.38, 0.4 , 0.42,\n",
       "        0.44, 0.46, 0.48, 0.5 , 0.52, 0.54, 0.56, 0.58, 0.6 , 0.62, 0.64,\n",
       "        0.66, 0.68, 0.7 , 0.72, 0.74, 0.76, 0.78, 0.8 , 0.82, 0.84, 0.86,\n",
       "        0.88, 0.9 , 0.92, 0.94, 0.96, 0.98, 1.  ]),\n",
       " <BarContainer object of 50 artists>)"
      ]
     },
     "execution_count": 19,
     "metadata": {},
     "output_type": "execute_result"
    },
    {
     "data": {
      "image/png": "[encoded data removed]",
      "text/plain": [
       "<Figure size 640x480 with 1 Axes>"
      ]
     },
     "metadata": {},
     "output_type": "display_data"
    }
   ],
   "source": [
    "plt.hist(inputs['recovery_rate'], bins = 50)\n",
    "# We plot a histogram of a variable with 50 bins."
   ]
  },
  {
   "cell_type": "code",
   "execution_count": 20,
   "id": "2719f23e-da63-4462-a296-3fea26f6008c",
   "metadata": {},
   "outputs": [],
   "source": [
    "inputs['recovery_rate_0_1'] = np.where(inputs['recovery_rate'] == 0, 0, 1)\n",
    "# We create a new variable which is 0 if recovery rate is 0 and 1 otherwise."
   ]
  },
  {
   "cell_type": "code",
   "execution_count": 21,
   "id": "6c0e6283-2d85-430a-a0b2-10ab7416999d",
   "metadata": {},
   "outputs": [
    {
     "data": {
      "text/plain": [
       "(array([17031.,     0.,     0.,     0.,     0.,     0.,     0.,     0.,\n",
       "            0.,     0.,     0.,     0.,     0.,     0.,     0.,     0.,\n",
       "            0.,     0.,     0.,     0.,     0.,     0.,     0.,     0.,\n",
       "            0.,     0.,     0.,     0.,     0.,     0.,     0.,     0.,\n",
       "            0.,     0.,     0.,     0.,     0.,     0.,     0.,     0.,\n",
       "            0.,     0.,     0.,     0.,     0.,     0.,     0.,     0.,\n",
       "            0., 40444.]),\n",
       " array([0.  , 0.02, 0.04, 0.06, 0.08, 0.1 , 0.12, 0.14, 0.16, 0.18, 0.2 ,\n",
       "        0.22, 0.24, 0.26, 0.28, 0.3 , 0.32, 0.34, 0.36, 0.38, 0.4 , 0.42,\n",
       "        0.44, 0.46, 0.48, 0.5 , 0.52, 0.54, 0.56, 0.58, 0.6 , 0.62, 0.64,\n",
       "        0.66, 0.68, 0.7 , 0.72, 0.74, 0.76, 0.78, 0.8 , 0.82, 0.84, 0.86,\n",
       "        0.88, 0.9 , 0.92, 0.94, 0.96, 0.98, 1.  ]),\n",
       " <BarContainer object of 50 artists>)"
      ]
     },
     "execution_count": 21,
     "metadata": {},
     "output_type": "execute_result"
    },
    {
     "data": {
      "image/png": "[encoded data removed]",
      "text/plain": [
       "<Figure size 640x480 with 1 Axes>"
      ]
     },
     "metadata": {},
     "output_type": "display_data"
    }
   ],
   "source": [
    "plt.hist(inputs['recovery_rate_0_1'], bins = 50)\n",
    "# We plot a histogram of a variable with 50 bins."
   ]
  },
  {
   "cell_type": "markdown",
   "id": "c40fd4ff-f83a-470d-a731-cb535eebf9d4",
   "metadata": {},
   "source": [
    "### Beta regression for LGD"
   ]
  },
  {
   "cell_type": "code",
   "execution_count": 23,
   "id": "6e8be72c-0cc1-41fe-9025-df40acdb3b54",
   "metadata": {},
   "outputs": [
    {
     "data": {
      "text/plain": [
       "['grade_woe',\n",
       " 'home_ownership_woe',\n",
       " 'addr_state_woe',\n",
       " 'loan_amnt_scaled',\n",
       " 'int_rate_scaled',\n",
       " 'installment_scaled',\n",
       " 'annual_inc_scaled',\n",
       " 'fico_range_high_scaled',\n",
       " 'inq_last_6mths_scaled',\n",
       " 'mths_since_last_delinq_scaled',\n",
       " 'mths_since_last_record_scaled',\n",
       " 'revol_bal_scaled',\n",
       " 'revol_util_scaled',\n",
       " 'out_prncp_inv_scaled',\n",
       " 'total_pymnt_inv_scaled',\n",
       " 'total_rec_prncp_scaled',\n",
       " 'last_pymnt_amnt_scaled',\n",
       " 'last_fico_range_high_scaled',\n",
       " 'last_fico_range_low_scaled',\n",
       " 'open_il_12m_scaled',\n",
       " 'total_bal_il_scaled',\n",
       " 'il_util_scaled',\n",
       " 'total_rev_hi_lim_scaled',\n",
       " 'total_cu_tl_scaled',\n",
       " 'bc_open_to_buy_scaled',\n",
       " 'bc_util_scaled',\n",
       " 'mo_sin_old_il_acct_scaled',\n",
       " 'mo_sin_old_rev_tl_op_scaled',\n",
       " 'mo_sin_rcnt_rev_tl_op_scaled',\n",
       " 'mo_sin_rcnt_tl_scaled',\n",
       " 'mths_since_recent_bc_scaled',\n",
       " 'mths_since_recent_bc_dlq_scaled',\n",
       " 'mths_since_recent_revol_delinq_scaled',\n",
       " 'num_accts_ever_120_pd_scaled',\n",
       " 'num_actv_bc_tl_scaled',\n",
       " 'num_bc_sats_scaled',\n",
       " 'num_bc_tl_scaled',\n",
       " 'num_tl_120dpd_2m_scaled',\n",
       " 'num_tl_30dpd_scaled',\n",
       " 'num_tl_90g_dpd_24m_scaled',\n",
       " 'num_tl_op_past_12m_scaled',\n",
       " 'pct_tl_nvr_dlq_scaled',\n",
       " 'percent_bc_gt_75_scaled',\n",
       " 'emp_length_int_scaled',\n",
       " 'term_int_scaled',\n",
       " 'mths_since_issue_d_scaled']"
      ]
     },
     "execution_count": 23,
     "metadata": {},
     "output_type": "execute_result"
    }
   ],
   "source": [
    "feature_name = feature_df.to_numpy()\n",
    "feature_name = feature_name.flatten().tolist()\n",
    "feature_name"
   ]
  },
  {
   "cell_type": "code",
   "execution_count": 24,
   "id": "f7cf21b4-3f4f-471a-971a-fa5ed82b7d2b",
   "metadata": {},
   "outputs": [
    {
     "data": {
      "text/html": [
       "<div>\n",
       "<style scoped>\n",
       "    .dataframe tbody tr th:only-of-type {\n",
       "        vertical-align: middle;\n",
       "    }\n",
       "\n",
       "    .dataframe tbody tr th {\n",
       "        vertical-align: top;\n",
       "    }\n",
       "\n",
       "    .dataframe thead th {\n",
       "        text-align: right;\n",
       "    }\n",
       "</style>\n",
       "<table border=\"1\" class=\"dataframe\">\n",
       "  <thead>\n",
       "    <tr style=\"text-align: right;\">\n",
       "      <th></th>\n",
       "      <th>grade_woe</th>\n",
       "      <th>home_ownership_woe</th>\n",
       "      <th>addr_state_woe</th>\n",
       "      <th>loan_amnt_scaled</th>\n",
       "      <th>int_rate_scaled</th>\n",
       "      <th>installment_scaled</th>\n",
       "      <th>annual_inc_scaled</th>\n",
       "      <th>fico_range_high_scaled</th>\n",
       "      <th>inq_last_6mths_scaled</th>\n",
       "      <th>mths_since_last_delinq_scaled</th>\n",
       "      <th>...</th>\n",
       "      <th>num_tl_120dpd_2m_scaled</th>\n",
       "      <th>num_tl_30dpd_scaled</th>\n",
       "      <th>num_tl_90g_dpd_24m_scaled</th>\n",
       "      <th>num_tl_op_past_12m_scaled</th>\n",
       "      <th>pct_tl_nvr_dlq_scaled</th>\n",
       "      <th>percent_bc_gt_75_scaled</th>\n",
       "      <th>emp_length_int_scaled</th>\n",
       "      <th>term_int_scaled</th>\n",
       "      <th>mths_since_issue_d_scaled</th>\n",
       "      <th>recovery_rate</th>\n",
       "    </tr>\n",
       "  </thead>\n",
       "  <tbody>\n",
       "    <tr>\n",
       "      <th>12</th>\n",
       "      <td>0.684812</td>\n",
       "      <td>1.000000</td>\n",
       "      <td>0.217322</td>\n",
       "      <td>0.137056</td>\n",
       "      <td>0.111414</td>\n",
       "      <td>0.099374</td>\n",
       "      <td>0.000902</td>\n",
       "      <td>0.180995</td>\n",
       "      <td>0.107143</td>\n",
       "      <td>0.096591</td>\n",
       "      <td>...</td>\n",
       "      <td>0.0</td>\n",
       "      <td>0.0</td>\n",
       "      <td>0.0</td>\n",
       "      <td>0.233333</td>\n",
       "      <td>1.000</td>\n",
       "      <td>0.143</td>\n",
       "      <td>1.0</td>\n",
       "      <td>0.0</td>\n",
       "      <td>0.253968</td>\n",
       "      <td>0.000000</td>\n",
       "    </tr>\n",
       "    <tr>\n",
       "      <th>16</th>\n",
       "      <td>0.152286</td>\n",
       "      <td>0.177957</td>\n",
       "      <td>0.217322</td>\n",
       "      <td>0.873096</td>\n",
       "      <td>0.579665</td>\n",
       "      <td>0.756554</td>\n",
       "      <td>0.001967</td>\n",
       "      <td>0.158371</td>\n",
       "      <td>0.000000</td>\n",
       "      <td>0.022727</td>\n",
       "      <td>...</td>\n",
       "      <td>0.0</td>\n",
       "      <td>0.0</td>\n",
       "      <td>0.0</td>\n",
       "      <td>0.066667</td>\n",
       "      <td>0.722</td>\n",
       "      <td>0.600</td>\n",
       "      <td>0.4</td>\n",
       "      <td>0.0</td>\n",
       "      <td>0.325397</td>\n",
       "      <td>0.000000</td>\n",
       "    </tr>\n",
       "    <tr>\n",
       "      <th>17</th>\n",
       "      <td>0.465864</td>\n",
       "      <td>1.000000</td>\n",
       "      <td>0.476097</td>\n",
       "      <td>0.619289</td>\n",
       "      <td>0.298792</td>\n",
       "      <td>0.484401</td>\n",
       "      <td>0.002213</td>\n",
       "      <td>0.203620</td>\n",
       "      <td>0.071429</td>\n",
       "      <td>0.102273</td>\n",
       "      <td>...</td>\n",
       "      <td>0.0</td>\n",
       "      <td>0.0</td>\n",
       "      <td>0.0</td>\n",
       "      <td>0.066667</td>\n",
       "      <td>0.885</td>\n",
       "      <td>0.222</td>\n",
       "      <td>1.0</td>\n",
       "      <td>0.0</td>\n",
       "      <td>0.277778</td>\n",
       "      <td>0.000000</td>\n",
       "    </tr>\n",
       "    <tr>\n",
       "      <th>18</th>\n",
       "      <td>0.297181</td>\n",
       "      <td>0.524021</td>\n",
       "      <td>0.320177</td>\n",
       "      <td>0.365482</td>\n",
       "      <td>0.503701</td>\n",
       "      <td>0.213891</td>\n",
       "      <td>0.000656</td>\n",
       "      <td>0.226244</td>\n",
       "      <td>0.000000</td>\n",
       "      <td>0.000000</td>\n",
       "      <td>...</td>\n",
       "      <td>0.0</td>\n",
       "      <td>0.0</td>\n",
       "      <td>0.0</td>\n",
       "      <td>0.100000</td>\n",
       "      <td>1.000</td>\n",
       "      <td>0.200</td>\n",
       "      <td>1.0</td>\n",
       "      <td>1.0</td>\n",
       "      <td>0.150794</td>\n",
       "      <td>0.246667</td>\n",
       "    </tr>\n",
       "    <tr>\n",
       "      <th>26</th>\n",
       "      <td>0.465864</td>\n",
       "      <td>0.177957</td>\n",
       "      <td>0.270120</td>\n",
       "      <td>0.238579</td>\n",
       "      <td>0.337748</td>\n",
       "      <td>0.189613</td>\n",
       "      <td>0.000902</td>\n",
       "      <td>0.158371</td>\n",
       "      <td>0.000000</td>\n",
       "      <td>0.232955</td>\n",
       "      <td>...</td>\n",
       "      <td>0.0</td>\n",
       "      <td>0.0</td>\n",
       "      <td>0.0</td>\n",
       "      <td>0.066667</td>\n",
       "      <td>0.944</td>\n",
       "      <td>1.000</td>\n",
       "      <td>0.0</td>\n",
       "      <td>0.0</td>\n",
       "      <td>0.103175</td>\n",
       "      <td>0.232700</td>\n",
       "    </tr>\n",
       "  </tbody>\n",
       "</table>\n",
       "<p>5 rows × 47 columns</p>\n",
       "</div>"
      ],
      "text/plain": [
       "    grade_woe  home_ownership_woe  addr_state_woe  loan_amnt_scaled  \\\n",
       "12   0.684812            1.000000        0.217322          0.137056   \n",
       "16   0.152286            0.177957        0.217322          0.873096   \n",
       "17   0.465864            1.000000        0.476097          0.619289   \n",
       "18   0.297181            0.524021        0.320177          0.365482   \n",
       "26   0.465864            0.177957        0.270120          0.238579   \n",
       "\n",
       "    int_rate_scaled  installment_scaled  annual_inc_scaled  \\\n",
       "12         0.111414            0.099374           0.000902   \n",
       "16         0.579665            0.756554           0.001967   \n",
       "17         0.298792            0.484401           0.002213   \n",
       "18         0.503701            0.213891           0.000656   \n",
       "26         0.337748            0.189613           0.000902   \n",
       "\n",
       "    fico_range_high_scaled  inq_last_6mths_scaled  \\\n",
       "12                0.180995               0.107143   \n",
       "16                0.158371               0.000000   \n",
       "17                0.203620               0.071429   \n",
       "18                0.226244               0.000000   \n",
       "26                0.158371               0.000000   \n",
       "\n",
       "    mths_since_last_delinq_scaled  ...  num_tl_120dpd_2m_scaled  \\\n",
       "12                       0.096591  ...                      0.0   \n",
       "16                       0.022727  ...                      0.0   \n",
       "17                       0.102273  ...                      0.0   \n",
       "18                       0.000000  ...                      0.0   \n",
       "26                       0.232955  ...                      0.0   \n",
       "\n",
       "    num_tl_30dpd_scaled  num_tl_90g_dpd_24m_scaled  num_tl_op_past_12m_scaled  \\\n",
       "12                  0.0                        0.0                   0.233333   \n",
       "16                  0.0                        0.0                   0.066667   \n",
       "17                  0.0                        0.0                   0.066667   \n",
       "18                  0.0                        0.0                   0.100000   \n",
       "26                  0.0                        0.0                   0.066667   \n",
       "\n",
       "    pct_tl_nvr_dlq_scaled  percent_bc_gt_75_scaled  emp_length_int_scaled  \\\n",
       "12                  1.000                    0.143                    1.0   \n",
       "16                  0.722                    0.600                    0.4   \n",
       "17                  0.885                    0.222                    1.0   \n",
       "18                  1.000                    0.200                    1.0   \n",
       "26                  0.944                    1.000                    0.0   \n",
       "\n",
       "    term_int_scaled  mths_since_issue_d_scaled  recovery_rate  \n",
       "12              0.0                   0.253968       0.000000  \n",
       "16              0.0                   0.325397       0.000000  \n",
       "17              0.0                   0.277778       0.000000  \n",
       "18              1.0                   0.150794       0.246667  \n",
       "26              0.0                   0.103175       0.232700  \n",
       "\n",
       "[5 rows x 47 columns]"
      ]
     },
     "execution_count": 24,
     "metadata": {},
     "output_type": "execute_result"
    }
   ],
   "source": [
    "# Here, from the dataframe with inputs for testing, we keep the same variables that we used in our final PD model.\n",
    "inputs = inputs.loc[: , feature_name + ['recovery_rate']]\n",
    "inputs.head()"
   ]
  },
  {
   "cell_type": "code",
   "execution_count": 25,
   "id": "3fe347f7-6a68-41a6-a6b3-04248b5ca955",
   "metadata": {
    "scrolled": true
   },
   "outputs": [
    {
     "name": "stdout",
     "output_type": "stream",
     "text": [
      "<class 'pandas.core.frame.DataFrame'>\n",
      "Index: 45980 entries, 157840 to 70920\n",
      "Data columns (total 46 columns):\n",
      " #   Column                                 Non-Null Count  Dtype  \n",
      "---  ------                                 --------------  -----  \n",
      " 0   grade_woe                              45980 non-null  float64\n",
      " 1   home_ownership_woe                     45980 non-null  float64\n",
      " 2   addr_state_woe                         45980 non-null  float64\n",
      " 3   loan_amnt_scaled                       45980 non-null  float64\n",
      " 4   int_rate_scaled                        45980 non-null  float64\n",
      " 5   installment_scaled                     45980 non-null  float64\n",
      " 6   annual_inc_scaled                      45980 non-null  float64\n",
      " 7   fico_range_high_scaled                 45980 non-null  float64\n",
      " 8   inq_last_6mths_scaled                  45980 non-null  float64\n",
      " 9   mths_since_last_delinq_scaled          45980 non-null  float64\n",
      " 10  mths_since_last_record_scaled          45980 non-null  float64\n",
      " 11  revol_bal_scaled                       45980 non-null  float64\n",
      " 12  revol_util_scaled                      45980 non-null  float64\n",
      " 13  out_prncp_inv_scaled                   45980 non-null  float64\n",
      " 14  total_pymnt_inv_scaled                 45980 non-null  float64\n",
      " 15  total_rec_prncp_scaled                 45980 non-null  float64\n",
      " 16  last_pymnt_amnt_scaled                 45980 non-null  float64\n",
      " 17  last_fico_range_high_scaled            45980 non-null  float64\n",
      " 18  last_fico_range_low_scaled             45980 non-null  float64\n",
      " 19  open_il_12m_scaled                     45980 non-null  float64\n",
      " 20  total_bal_il_scaled                    45980 non-null  float64\n",
      " 21  il_util_scaled                         45980 non-null  float64\n",
      " 22  total_rev_hi_lim_scaled                45980 non-null  float64\n",
      " 23  total_cu_tl_scaled                     45980 non-null  float64\n",
      " 24  bc_open_to_buy_scaled                  45980 non-null  float64\n",
      " 25  bc_util_scaled                         45980 non-null  float64\n",
      " 26  mo_sin_old_il_acct_scaled              45980 non-null  float64\n",
      " 27  mo_sin_old_rev_tl_op_scaled            45980 non-null  float64\n",
      " 28  mo_sin_rcnt_rev_tl_op_scaled           45980 non-null  float64\n",
      " 29  mo_sin_rcnt_tl_scaled                  45980 non-null  float64\n",
      " 30  mths_since_recent_bc_scaled            45980 non-null  float64\n",
      " 31  mths_since_recent_bc_dlq_scaled        45980 non-null  float64\n",
      " 32  mths_since_recent_revol_delinq_scaled  45980 non-null  float64\n",
      " 33  num_accts_ever_120_pd_scaled           45980 non-null  float64\n",
      " 34  num_actv_bc_tl_scaled                  45980 non-null  float64\n",
      " 35  num_bc_sats_scaled                     45980 non-null  float64\n",
      " 36  num_bc_tl_scaled                       45980 non-null  float64\n",
      " 37  num_tl_120dpd_2m_scaled                45980 non-null  float64\n",
      " 38  num_tl_30dpd_scaled                    45980 non-null  float64\n",
      " 39  num_tl_90g_dpd_24m_scaled              45980 non-null  float64\n",
      " 40  num_tl_op_past_12m_scaled              45980 non-null  float64\n",
      " 41  pct_tl_nvr_dlq_scaled                  45980 non-null  float64\n",
      " 42  percent_bc_gt_75_scaled                45980 non-null  float64\n",
      " 43  emp_length_int_scaled                  45980 non-null  float64\n",
      " 44  term_int_scaled                        45980 non-null  float64\n",
      " 45  mths_since_issue_d_scaled              45980 non-null  float64\n",
      "dtypes: float64(46)\n",
      "memory usage: 16.5 MB\n"
     ]
    }
   ],
   "source": [
    "import numpy as np\n",
    "import pandas as pd\n",
    "from sklearn.model_selection import train_test_split\n",
    "from sklearn.metrics import mean_squared_error\n",
    "import matplotlib.pyplot as plt\n",
    "import statsmodels.api as sm\n",
    "from statsmodels.othermod.betareg import BetaModel\n",
    "\n",
    "# Beta regression typically works  when the target variable is bounded between 0 and 1,\n",
    "# so we will use 'recovery_rate' in this context, assuming it's bounded between 0 and 1.\n",
    "\n",
    "# Stage 1: Prepare the data\n",
    "lgd_inputs, lgd_targets = inputs.drop('recovery_rate', axis = 1), inputs['recovery_rate']\n",
    "lgd_inputs_train, lgd_inputs_test, lgd_targets_train, lgd_targets_test = train_test_split(lgd_inputs, lgd_targets.clip(1e-6, 1-1e-6), test_size=0.2, random_state=42)\n",
    "\n",
    "lgd_inputs_train.info()"
   ]
  },
  {
   "cell_type": "code",
   "execution_count": 26,
   "id": "274a1d01-e081-4aad-bed1-763935082e85",
   "metadata": {},
   "outputs": [
    {
     "name": "stdout",
     "output_type": "stream",
     "text": [
      "                              BetaModel Results                               \n",
      "==============================================================================\n",
      "Dep. Variable:          recovery_rate   Log-Likelihood:             1.6228e+05\n",
      "Model:                      BetaModel   AIC:                        -3.245e+05\n",
      "Method:            Maximum Likelihood   BIC:                        -3.241e+05\n",
      "Date:                Mon, 07 Oct 2024                                         \n",
      "Time:                        19:51:04                                         \n",
      "No. Observations:               45980                                         \n",
      "Df Residuals:                   45932                                         \n",
      "Df Model:                          46                                         \n",
      "=========================================================================================================\n",
      "                                            coef    std err          z      P>|z|      [0.025      0.975]\n",
      "---------------------------------------------------------------------------------------------------------\n",
      "const                                    -0.6739        nan        nan        nan         nan         nan\n",
      "grade_woe                                -0.4459        nan        nan        nan         nan         nan\n",
      "home_ownership_woe                        0.0009        nan        nan        nan         nan         nan\n",
      "addr_state_woe                           -0.4729        nan        nan        nan         nan         nan\n",
      "loan_amnt_scaled                         -2.7901        nan        nan        nan         nan         nan\n",
      "int_rate_scaled                          -2.6654        nan        nan        nan         nan         nan\n",
      "installment_scaled                        3.0612        nan        nan        nan         nan         nan\n",
      "annual_inc_scaled                        -2.6839        nan        nan        nan         nan         nan\n",
      "fico_range_high_scaled                   -0.2306        nan        nan        nan         nan         nan\n",
      "inq_last_6mths_scaled                    -0.1090        nan        nan        nan         nan         nan\n",
      "mths_since_last_delinq_scaled            -0.0488        nan        nan        nan         nan         nan\n",
      "mths_since_last_record_scaled            -0.1082        nan        nan        nan         nan         nan\n",
      "revol_bal_scaled                          0.7757        nan        nan        nan         nan         nan\n",
      "revol_util_scaled                        -0.0818        nan        nan        nan         nan         nan\n",
      "out_prncp_inv_scaled                  -2.677e-13        nan        nan        nan         nan         nan\n",
      "total_pymnt_inv_scaled                   19.7280        nan        nan        nan         nan         nan\n",
      "total_rec_prncp_scaled                  -20.2081        nan        nan        nan         nan         nan\n",
      "last_pymnt_amnt_scaled                    2.2015        nan        nan        nan         nan         nan\n",
      "last_fico_range_high_scaled              -1.9246        nan        nan        nan         nan         nan\n",
      "last_fico_range_low_scaled                0.4694        nan        nan        nan         nan         nan\n",
      "open_il_12m_scaled                        0.3315        nan        nan        nan         nan         nan\n",
      "total_bal_il_scaled                       0.1987        nan        nan        nan         nan         nan\n",
      "il_util_scaled                           -0.0281        nan        nan        nan         nan         nan\n",
      "total_rev_hi_lim_scaled                  -2.1381        nan        nan        nan         nan         nan\n",
      "total_cu_tl_scaled                       -0.3585        nan        nan        nan         nan         nan\n",
      "bc_open_to_buy_scaled                     1.6393        nan        nan        nan         nan         nan\n",
      "bc_util_scaled                            0.4415        nan        nan        nan         nan         nan\n",
      "mo_sin_old_il_acct_scaled                -0.2658        nan        nan        nan         nan         nan\n",
      "mo_sin_old_rev_tl_op_scaled              -0.1210        nan        nan        nan         nan         nan\n",
      "mo_sin_rcnt_rev_tl_op_scaled              0.1224        nan        nan        nan         nan         nan\n",
      "mo_sin_rcnt_tl_scaled                    -0.1118        nan        nan        nan         nan         nan\n",
      "mths_since_recent_bc_scaled              -0.3440        nan        nan        nan         nan         nan\n",
      "mths_since_recent_bc_dlq_scaled           0.2826        nan        nan        nan         nan         nan\n",
      "mths_since_recent_revol_delinq_scaled    -0.0759        nan        nan        nan         nan         nan\n",
      "num_accts_ever_120_pd_scaled             -0.0842        nan        nan        nan         nan         nan\n",
      "num_actv_bc_tl_scaled                    -0.6821        nan        nan        nan         nan         nan\n",
      "num_bc_sats_scaled                       -0.3140        nan        nan        nan         nan         nan\n",
      "num_bc_tl_scaled                          0.2866        nan        nan        nan         nan         nan\n",
      "num_tl_120dpd_2m_scaled                   0.7061        nan        nan        nan         nan         nan\n",
      "num_tl_30dpd_scaled                      -0.0081        nan        nan        nan         nan         nan\n",
      "num_tl_90g_dpd_24m_scaled                 0.9128        nan        nan        nan         nan         nan\n",
      "num_tl_op_past_12m_scaled                 0.3680        nan        nan        nan         nan         nan\n",
      "pct_tl_nvr_dlq_scaled                     0.0562        nan        nan        nan         nan         nan\n",
      "percent_bc_gt_75_scaled                  -0.0308        nan        nan        nan         nan         nan\n",
      "emp_length_int_scaled                     0.0680        nan        nan        nan         nan         nan\n",
      "term_int_scaled                          -0.3965        nan        nan        nan         nan         nan\n",
      "mths_since_issue_d_scaled                 1.3036        nan        nan        nan         nan         nan\n",
      "precision                                 1.5294        nan        nan        nan         nan         nan\n",
      "=========================================================================================================\n"
     ]
    },
    {
     "name": "stderr",
     "output_type": "stream",
     "text": [
      "C:\\Users\\Pierre Pro\\anaconda3\\Lib\\site-packages\\statsmodels\\base\\model.py:595: HessianInversionWarning: Inverting hessian failed, no bse or cov_params available\n",
      "  warnings.warn('Inverting hessian failed, no bse or cov_params '\n"
     ]
    }
   ],
   "source": [
    "# Add of an intercept to the input data\n",
    "lgd_inputs_train = sm.add_constant(lgd_inputs_train)\n",
    "lgd_inputs_test = sm.add_constant(lgd_inputs_test)\n",
    "\n",
    "# Stage 2: Create the Beta regression model\n",
    "beta_model = BetaModel(lgd_targets_train, lgd_inputs_train)\n",
    "\n",
    "# Ajust the model and get the model summary to check the results\n",
    "beta_model_fit = beta_model.fit()\n",
    "print(beta_model_fit.summary())"
   ]
  },
  {
   "cell_type": "code",
   "execution_count": 27,
   "id": "17b73bc9-8026-4493-aaf8-d13d67923f2d",
   "metadata": {},
   "outputs": [
    {
     "data": {
      "text/plain": [
       "array([0.0161217 , 0.05350373, 0.07508739, ..., 0.01631273, 0.03414443,\n",
       "       0.03640959])"
      ]
     },
     "execution_count": 27,
     "metadata": {},
     "output_type": "execute_result"
    }
   ],
   "source": [
    "# Predicting on the test set\n",
    "lgd_predictions_proba = beta_model_fit.predict(lgd_inputs_test)\n",
    "lgd_predictions_proba = lgd_predictions_proba.to_numpy()\n",
    "lgd_predictions_proba"
   ]
  },
  {
   "cell_type": "code",
   "execution_count": 28,
   "id": "bbd92ae8-69c4-4314-8477-dea4f7784dbf",
   "metadata": {},
   "outputs": [],
   "source": [
    "import pickle\n",
    "pickle.dump(beta_model_fit, open('lgd_model.sav', 'wb'))\n",
    "# Here we export our model to a 'SAV' file with file name 'lgd_model.sav'.\n",
    "\n",
    "# Convert numpy array to DataFrame\n",
    "feature_df = pd.DataFrame(feature_name)\n",
    "\n",
    "# Export to CSV\n",
    "feature_df.to_csv('feature_lgd.csv', index=False)"
   ]
  },
  {
   "cell_type": "code",
   "execution_count": 29,
   "id": "93d6731f-8479-46e3-b84a-6a00dbc91147",
   "metadata": {},
   "outputs": [
    {
     "data": {
      "text/html": [
       "<div>\n",
       "<style scoped>\n",
       "    .dataframe tbody tr th:only-of-type {\n",
       "        vertical-align: middle;\n",
       "    }\n",
       "\n",
       "    .dataframe tbody tr th {\n",
       "        vertical-align: top;\n",
       "    }\n",
       "\n",
       "    .dataframe thead th {\n",
       "        text-align: right;\n",
       "    }\n",
       "</style>\n",
       "<table border=\"1\" class=\"dataframe\">\n",
       "  <thead>\n",
       "    <tr style=\"text-align: right;\">\n",
       "      <th></th>\n",
       "      <th>lgd_targets_test_temp</th>\n",
       "      <th>lgd_predictions_proba</th>\n",
       "    </tr>\n",
       "  </thead>\n",
       "  <tbody>\n",
       "    <tr>\n",
       "      <th>154329</th>\n",
       "      <td>0.000001</td>\n",
       "      <td>0.016122</td>\n",
       "    </tr>\n",
       "    <tr>\n",
       "      <th>3868</th>\n",
       "      <td>0.000001</td>\n",
       "      <td>0.053504</td>\n",
       "    </tr>\n",
       "    <tr>\n",
       "      <th>150632</th>\n",
       "      <td>0.103575</td>\n",
       "      <td>0.075087</td>\n",
       "    </tr>\n",
       "    <tr>\n",
       "      <th>85640</th>\n",
       "      <td>0.128770</td>\n",
       "      <td>0.044415</td>\n",
       "    </tr>\n",
       "    <tr>\n",
       "      <th>279671</th>\n",
       "      <td>0.080156</td>\n",
       "      <td>0.064500</td>\n",
       "    </tr>\n",
       "  </tbody>\n",
       "</table>\n",
       "</div>"
      ],
      "text/plain": [
       "        lgd_targets_test_temp  lgd_predictions_proba\n",
       "154329               0.000001               0.016122\n",
       "3868                 0.000001               0.053504\n",
       "150632               0.103575               0.075087\n",
       "85640                0.128770               0.044415\n",
       "279671               0.080156               0.064500"
      ]
     },
     "execution_count": 29,
     "metadata": {},
     "output_type": "execute_result"
    }
   ],
   "source": [
    "lgd_targets_test_temp = lgd_targets_test\n",
    "lgd_targets_test_temp.reset_index(drop = True, inplace = True)\n",
    "# We reset the index of a dataframe.\n",
    "\n",
    "df_actual_predicted_probs = pd.concat([lgd_targets_test_temp, pd.DataFrame(lgd_predictions_proba)], axis = 1)\n",
    "# Concatenates two dataframes.\n",
    "\n",
    "df_actual_predicted_probs.columns = ['lgd_targets_test_temp', 'lgd_predictions_proba']\n",
    "\n",
    "df_actual_predicted_probs.index = lgd_inputs_test.index\n",
    "df_actual_predicted_probs.head()"
   ]
  },
  {
   "attachments": {
    "c44177a6-fcc4-45a5-af8c-bd755f15fcd0.png": {
     "image/png": "[encoded data removed]"
    }
   },
   "cell_type": "markdown",
   "id": "700f88c3-67f9-4f74-a762-af87397ac629",
   "metadata": {},
   "source": [
    "![image.png](attachment:c44177a6-fcc4-45a5-af8c-bd755f15fcd0.png)\n",
    "\n"
   ]
  },
  {
   "cell_type": "code",
   "execution_count": 31,
   "id": "cc34115f-d645-4920-91b3-1d2dfec64f4a",
   "metadata": {},
   "outputs": [
    {
     "name": "stdout",
     "output_type": "stream",
     "text": [
      "Mean Absolute Error (MAE): 0.0496\n",
      "Mean Squared Error (MSE): 0.0057\n",
      "Root Mean Squared Error (RMSE): 0.0755\n",
      "Coefficient of Determination (R²): 0.3553\n"
     ]
    }
   ],
   "source": [
    "from sklearn.metrics import mean_absolute_error, mean_squared_error, r2_score\n",
    "import numpy as np\n",
    "\n",
    "y_true = df_actual_predicted_probs['lgd_targets_test_temp'].values\n",
    "y_pred = df_actual_predicted_probs['lgd_predictions_proba'].values\n",
    "\n",
    "# MAE\n",
    "mae = mean_absolute_error(y_true, y_pred)\n",
    "print(f\"Mean Absolute Error (MAE): {mae:.4f}\")\n",
    "\n",
    "# MSE\n",
    "mse = mean_squared_error(y_true, y_pred)\n",
    "print(f\"Mean Squared Error (MSE): {mse:.4f}\")\n",
    "\n",
    "# RMSE\n",
    "rmse = np.sqrt(mse)\n",
    "print(f\"Root Mean Squared Error (RMSE): {rmse:.4f}\")\n",
    "\n",
    "# R²\n",
    "r2 = r2_score(y_true, y_pred)\n",
    "print(f\"Coefficient of Determination (R²): {r2:.4f}\")"
   ]
  },
  {
   "cell_type": "markdown",
   "id": "f05ec2ad-2ff4-4a34-a271-de2dcab0ec69",
   "metadata": {},
   "source": [
    "Interprétation des résultats :\n",
    "MAE : Plus la MAE est faible, plus les prédictions sont proches des valeurs réelles en moyenne.\n",
    "RMSE : Comme la RMSE pénalise davantage les grandes erreurs, une valeur faible indique que le modèle n'a pas de grandes erreurs de prédiction.\n",
    "R² : Une valeur proche de 1 signifie que le modèle explique bien la variance des données. Une valeur négative ou proche de 0 indique que le modèle n'explique pas bien les données."
   ]
  },
  {
   "cell_type": "code",
   "execution_count": 33,
   "id": "47074314-a9f9-4e0c-b186-3901a2ef6582",
   "metadata": {},
   "outputs": [
    {
     "data": {
      "image/png": "[encoded data removed]",
      "text/plain": [
       "<Figure size 640x480 with 1 Axes>"
      ]
     },
     "metadata": {},
     "output_type": "display_data"
    }
   ],
   "source": [
    "import matplotlib.pyplot as plt\n",
    "\n",
    "plt.scatter(y_true, y_pred, alpha=0.5)\n",
    "plt.plot([0, 1], [0, 1], 'r--')  # Ligne y = x for ref\n",
    "plt.xlabel('Actual LGD')\n",
    "plt.ylabel('Predicted LGD')\n",
    "plt.title('Actual vs. Predicted LGD')\n",
    "plt.show()"
   ]
  },
  {
   "cell_type": "markdown",
   "id": "04f4163b-6787-412a-9f5b-ef2002a69b62",
   "metadata": {},
   "source": [
    "## Interpretation of each metric :\n",
    "1. Mean Absolute Error (MAE): 0.0496\n",
    "Interpretation: MAE measures the mean absolute error between predictions and actual values.  \n",
    "A MAE of 0.0496 means that, on average, your model's predictions deviate from the actual values by 4.96%.\n",
    "Evaluation: Given that the LGD varies between 0 and 1 (0% to 100%), an average error of less than 5% is relatively low, which is positive.\n",
    "\n",
    "2. Mean Squared Error (MSE): 0.0057\n",
    "Interpretation: MSE is the mean squared error between predictions and actual values.  \n",
    "It penalizes larger errors.\n",
    "Assessment: An MSE of 0.0057 is quite low, indicating that large errors are rare in your model.\n",
    "\n",
    "3. Root Mean Squared Error (RMSE): 0.0755\n",
    "Interpretation: RMSE is the square root of MSE.  \n",
    "It is expressed in the same units as the LGD.  \n",
    "An RMSE of 0.0755 means that the standard deviation of residuals is 7.55%.\n",
    "Assessment: An RMSE of less than 10% is generally considered acceptable in financial models, but this depends on the context and industry standards.\n",
    "\n",
    "4. Coefficient of Determination (R²) : 0.3553\n",
    "Interpretation: The R² indicates the proportion of LGD variance that is explained by your model.  \n",
    "An R² of 0.3553 means that your model explains around 35.53% of total LGD variability.\n",
    "Assessment: An R² of 35% is relatively low, suggesting that the model doesn't capture much of the variance in the data.\n",
    "\n",
    "## Overall analysis:\n",
    "\n",
    "#### Low errors but low R²:\n",
    "Although the mean errors are low (MAE and RMSE), the low R² indicates that the model fails to explain much of the LGD variance in the test data.\n",
    "\n",
    "#### Possible explanation: \n",
    "This may indicate that the model is accurate on average (predicts values close to the true mean), but does not capture well the specific variations in LGD for different observations.\n",
    "\n",
    "## Detailed interpretation:\n",
    "\n",
    "#### LGD distribution:\n",
    "Low variance: If the LGD is highly concentrated around a mean value (for example, most observations have an LGD close to 0.05), the model may obtain low mean errors by simply predicting this mean, which would explain the low R².\n",
    "Verification: I recommend plotting the histogram of the actual LGD to check its distribution.\n",
    "Limited predictive ability:\n",
    "Missing variables: The low R² suggests that some important explanatory variables for LGD are not included in the model.\n",
    "Complexity of the phenomenon: LGD is influenced by many factors, including macroeconomic variables, specific loan characteristics, and legal aspects of collection.\n",
    "\n",
    "## Recommendations for improving the model :\n",
    "\n",
    "#### Add relevant explanatory variables:\n",
    "Collateral quality: If possible, include information on collateral associated with loans.\n",
    "Type of financial product: Different types of loans may have different LGDs.\n",
    "Collection history : Variables indicating the efficiency of the collection process may be useful.\n",
    "\n",
    "#### Analyze model residuals :\n",
    "Residuals plot: Plots residuals (error between actual and predicted values) against predicted values to detect patterns.\n",
    "Heteroskedasticity: Checks whether the variance of residuals is constant.  \n",
    "Heteroscedasticity may indicate that the model is not well specified.\n",
    "\n",
    "#### Use more complex models :\n",
    "Non-linear models: Consider using models such as decision trees, random forests or gradient boosting (e.g. XGBoost), which can capture non-linear relationships.\n",
    "Neural networks: These can be useful if you have a large volume of data and complex relationships.\n",
    "\n",
    "#### Cross-validation:\n",
    "Model robustness: Use cross-validation to evaluate model performance on different subsets of the data.\n",
    "Avoid overlearning: Make sure the model generalizes well and isn't overlearned on training data.\n",
    "\n",
    "#### Segment data:\n",
    "Clustering:Group loans into homogeneous segments (e.g. by industry, loan amount, etc.) and train specific models for each segment.\n",
    "Benefit: This can improve accuracy by capturing segment-specific patterns.\n",
    "\n",
    "#### Feature Engineering:\n",
    "Create new variables: Combine or transform existing variables to extract more information.\n",
    "Interaction between variables: Consider including interaction terms if this makes sense.\n"
   ]
  }
 ],
 "metadata": {
  "kernelspec": {
   "display_name": "Python 3 (ipykernel)",
   "language": "python",
   "name": "python3"
  },
  "language_info": {
   "codemirror_mode": {
    "name": "ipython",
    "version": 3
   },
   "file_extension": ".py",
   "mimetype": "text/x-python",
   "name": "python",
   "nbconvert_exporter": "python",
   "pygments_lexer": "ipython3",
   "version": "3.12.4"
  }
 },
 "nbformat": 4,
 "nbformat_minor": 5
}
